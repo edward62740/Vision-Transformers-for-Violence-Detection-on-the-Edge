{
 "cells": [
  {
   "cell_type": "code",
   "execution_count": null,
   "metadata": {
    "id": "RXmoxQ0oZ8xx"
   },
   "outputs": [],
   "source": [
    "!sudo apt-get -y update\n",
    "!sudo apt-get -y install python3-pip\n",
    "!sudo apt-get -y install python-is-python3\n",
    "!wget https://github.com/PINTO0309/onnx2tf/releases/download/1.16.31/flatc.tar.gz \\\n",
    "  && tar -zxvf flatc.tar.gz \\\n",
    "  && sudo chmod +x flatc \\\n",
    "  && sudo mv flatc /usr/bin/\n",
    "!pip install -U pip \\\n",
    "  && pip install tensorflow==2.15.0 \\\n",
    "  && pip install -U onnx==1.15.0 \\\n",
    "  && python -m pip install onnx_graphsurgeon \\\n",
    "        --index-url https://pypi.ngc.nvidia.com \\\n",
    "  && pip install -U onnxruntime==1.16.3 \\\n",
    "  && pip install -U onnxsim==0.4.33 \\\n",
    "  && pip install -U simple_onnx_processing_tools \\\n",
    "  && pip install -U onnx2tf \\\n",
    "  && pip install -U protobuf==3.20.3 \\\n",
    "  && pip install -U h5py==3.7.0 \\\n",
    "  && pip install -U psutil==5.9.5 \\\n",
    "  && pip install -U ml_dtypes==0.2.0"
   ]
  },
  {
   "cell_type": "code",
   "execution_count": null,
   "metadata": {
    "id": "y9xdmH1-0rFf"
   },
   "outputs": [],
   "source": [
    "!pip install timm torch"
   ]
  },
  {
   "cell_type": "code",
   "execution_count": null,
   "metadata": {
    "id": "iHWGRUnjaCua"
   },
   "outputs": [],
   "source": [
    "import timm\n",
    "onnx_model_path = \"deit_onnx_intermediate_model.onnx\"\n",
    "tf_model_path = \"deit_tf_intermediate\"\n",
    "import deit\n",
    "from functools import partial\n",
    "import torch\n",
    "import torch.nn as nn\n",
    "from timm.models.vision_transformer import VisionTransformer, _cfg\n",
    "from timm.models.registry import register_model\n",
    "from timm.models.layers import trunc_normal_\n",
    "\n",
    "def gelu():\n",
    "    return nn.GELU(approximate='tanh')\n",
    "\n",
    "class GELUapprx(nn.Module):\n",
    "    def forward(self, x):\n",
    "        return x * torch.sigmoid(x * 1.702)\n",
    "\n",
    "def deit_tiny_distilled_patch16_224(pretrained=True, **kwargs):\n",
    "    model = deit.DistilledVisionTransformer(\n",
    "        patch_size=16, embed_dim=192, depth=12, num_heads=3, mlp_ratio=4, qkv_bias=True,\n",
    "        norm_layer=partial(nn.LayerNorm, eps=1e-6), num_classes=0, act_layer=GELUapprx, **kwargs)\n",
    "    model.default_cfg = _cfg()\n",
    "    if pretrained:\n",
    "        checkpoint = torch.hub.load_state_dict_from_url(\n",
    "            url=\"https://dl.fbaipublicfiles.com/deit/deit_tiny_distilled_patch16_224-b40b3cf7.pth\",\n",
    "            map_location=\"cpu\", check_hash=True\n",
    "        )\n",
    "        model.load_state_dict(checkpoint[\"model\"], strict=False)\n",
    "    return model\n",
    "\n",
    "sample_input = torch.rand((1, 3, 224, 224))\n",
    "class CustomDeiTWithPreprocessing(nn.Module):\n",
    "    def __init__(self, **kwargs):\n",
    "        super(CustomDeiTWithPreprocessing, self).__init__()\n",
    "\n",
    "        # Preprocessing layers\n",
    "        self.normalization = nn.BatchNorm2d(3)\n",
    "        self.mean = torch.tensor([0.485 * 255, 0.456 * 255, 0.406 * 255])\n",
    "        self.variance = torch.tensor([(0.229 * 255) ** 2, (0.224 * 255) ** 2, (0.225 * 255) ** 2])\n",
    "\n",
    "        # DeiT model\n",
    "        self.deit_model = deit_tiny_distilled_patch16_224()\n",
    "\n",
    "    def forward(self, x):\n",
    "        # Apply normalization\n",
    "        x = self.normalization(x)\n",
    "\n",
    "        # Apply mean and variance scaling\n",
    "        x = (x - self.mean.view(1, 3, 1, 1)) / torch.sqrt(self.variance.view(1, 3, 1, 1))\n",
    "\n",
    "        # Forward pass through DeiT model\n",
    "        x = self.deit_model(x)\n",
    "        return x\n",
    "\n",
    "\n",
    "# Create an instance of the custom model\n",
    "custom_model = CustomDeiTWithPreprocessing()\n",
    "\n",
    "torch.onnx.export(\n",
    "    custom_model,                  # PyTorch Model\n",
    "    sample_input,                    # Input tensor\n",
    "    onnx_model_path,        # Output file (eg. 'output_model.onnx')\n",
    "    opset_version=14,       # Operator support version\n",
    "    input_names=['input'],\n",
    "    output_names=['output']\n",
    ")\n",
    "\n",
    "\n"
   ]
  },
  {
   "cell_type": "code",
   "execution_count": null,
   "metadata": {
    "colab": {
     "base_uri": "https://localhost:8080/"
    },
    "id": "cuJTr_yhdXuB",
    "outputId": "ec2581c4-dd0d-4b88-b218-a9da8c7e6995"
   },
   "outputs": [
    {
     "name": "stdout",
     "output_type": "stream",
     "text": [
      "  adding: content/saved_model/ (stored 0%)\n",
      "  adding: content/saved_model/variables/ (stored 0%)\n",
      "  adding: content/saved_model/variables/variables.index (deflated 33%)\n",
      "  adding: content/saved_model/variables/variables.data-00000-of-00001 (deflated 83%)\n",
      "  adding: content/saved_model/saved_model.pb (deflated 9%)\n",
      "  adding: content/saved_model/deit_onnx_intermediate_model_float32.keras"
     ]
    }
   ],
   "source": [
    "\n",
    "!zip -r /content/file.zip /content/saved_model"
   ]
  },
  {
   "cell_type": "code",
   "execution_count": null,
   "metadata": {
    "id": "ulne2GvNdhNH"
   },
   "outputs": [],
   "source": [
    "from google.colab import files\n",
    "files.download(\"/content/file.zip\")"
   ]
  },
  {
   "cell_type": "code",
   "execution_count": null,
   "metadata": {
    "colab": {
     "background_save": true
    },
    "id": "8RMm_VFA-zv0"
   },
   "outputs": [],
   "source": [
    "!onnx2tf -i deit_onnx_intermediate_model.onnx -oh5"
   ]
  },
  {
   "cell_type": "code",
   "execution_count": null,
   "metadata": {
    "colab": {
     "base_uri": "https://localhost:8080/"
    },
    "id": "Fq5U8H2fQU-o",
    "outputId": "1db193f8-65d2-46d9-caf8-5222c324b8fb"
   },
   "outputs": [
    {
     "name": "stdout",
     "output_type": "stream",
     "text": [
      "Edge TPU Compiler version 16.0.384591198\n",
      "Started a compilation timeout timer of 180 seconds.\n",
      "\n",
      "Models compiled successfully in 22300 ms.\n",
      "\n",
      "Input model: quantized_temporal_extractor.tflite\n",
      "Input size: 2.57MiB\n",
      "Output model: quantized_temporal_extractor_edgetpu.tflite\n",
      "Output size: 3.92MiB\n",
      "On-chip memory used for caching model parameters: 2.33MiB\n",
      "On-chip memory remaining for caching model parameters: 0.00B\n",
      "Off-chip memory used for streaming uncached model parameters: 319.62KiB\n",
      "Number of Edge TPU subgraphs: 9\n",
      "Total number of operations: 205\n",
      "Operation log: quantized_temporal_extractor_edgetpu.log\n",
      "\n",
      "Model successfully compiled but not all operations are supported by the Edge TPU. A percentage of the model will instead run on the CPU, which is slower. If possible, consider updating your model to use only operations supported by the Edge TPU. For details, visit g.co/coral/model-reqs.\n",
      "Number of operations that will run on Edge TPU: 185\n",
      "Number of operations that will run on CPU: 20\n",
      "\n",
      "Operator                       Count      Status\n",
      "\n",
      "SPLIT                          8          For example, a fully-connected or softmax layer with 2D output\n",
      "RSQRT                          2          Mapped to Edge TPU\n",
      "DEQUANTIZE                     1          Operation is working on an unsupported data type\n",
      "FULLY_CONNECTED                46         Mapped to Edge TPU\n",
      "QUANTIZE                       1          Operation is otherwise supported, but not mapped due to some unspecified limitation\n",
      "CAST                           2          Operation is working on an unsupported data type\n",
      "REDUCE_ANY                     1          Operation is working on an unsupported data type\n",
      "MEAN                           4          For example, a fully-connected or softmax layer with 2D output\n",
      "LOGISTIC                       1          Mapped to Edge TPU\n",
      "ADD                            12         Mapped to Edge TPU\n",
      "SUB                            3          Mapped to Edge TPU\n",
      "SQUARED_DIFFERENCE             2          Mapped to Edge TPU\n",
      "MUL                            7          Mapped to Edge TPU\n",
      "STRIDED_SLICE                  1          Operation is working on an unsupported data type\n",
      "STRIDED_SLICE                  1          Mapped to Edge TPU\n",
      "TRANSPOSE                      46         Mapped to Edge TPU\n",
      "SOFTMAX                        2          Mapped to Edge TPU\n",
      "RESHAPE                        2          Operation is working on an unsupported data type\n",
      "RESHAPE                        58         Mapped to Edge TPU\n",
      "PACK                           4          Mapped to Edge TPU\n",
      "CONCATENATION                  1          Mapped to Edge TPU\n",
      "\n",
      "Input model: quantized_spatial_extractor.tflite\n",
      "Input size: 5.82MiB\n",
      "Output model: quantized_spatial_extractor_edgetpu.tflite\n",
      "Output size: 11.13MiB\n",
      "On-chip memory used for caching model parameters: 3.64MiB\n",
      "On-chip memory remaining for caching model parameters: 0.00B\n",
      "Off-chip memory used for streaming uncached model parameters: 4.38MiB\n",
      "Number of Edge TPU subgraphs: 3\n",
      "Total number of operations: 1055\n",
      "Operation log: quantized_spatial_extractor_edgetpu.log\n",
      "\n",
      "Model successfully compiled but not all operations are supported by the Edge TPU. A percentage of the model will instead run on the CPU, which is slower. If possible, consider updating your model to use only operations supported by the Edge TPU. For details, visit g.co/coral/model-reqs.\n",
      "Number of operations that will run on Edge TPU: 1051\n",
      "Number of operations that will run on CPU: 4\n",
      "\n",
      "Operator                       Count      Status\n",
      "\n",
      "FULLY_CONNECTED                96         Mapped to Edge TPU\n",
      "MUL                            138        Mapped to Edge TPU\n",
      "CONV_2D                        49         Mapped to Edge TPU\n",
      "RESHAPE                        205        Mapped to Edge TPU\n",
      "CONCATENATION                  1          Operation is working on an unsupported data type\n",
      "CONCATENATION                  48         Mapped to Edge TPU\n",
      "RSQRT                          25         Mapped to Edge TPU\n",
      "GATHER                         2          Operation not supported\n",
      "SUB                            26         Mapped to Edge TPU\n",
      "MEAN                           50         Mapped to Edge TPU\n",
      "STRIDED_SLICE                  180        Mapped to Edge TPU\n",
      "TRANSPOSE                      121        Mapped to Edge TPU\n",
      "TRANSPOSE                      1          Operation is otherwise supported, but not mapped due to some unspecified limitation\n",
      "SOFTMAX                        12         Mapped to Edge TPU\n",
      "LOGISTIC                       24         Mapped to Edge TPU\n",
      "ADD                            77         Mapped to Edge TPU\n",
      "Compilation child process completed within timeout period.\n",
      "Compilation succeeded! \n"
     ]
    }
   ],
   "source": [
    "! edgetpu_compiler  quantized_temporal_extractor.tflite  quantized_spatial_extractor.tflite -sa"
   ]
  },
  {
   "cell_type": "code",
   "execution_count": null,
   "metadata": {
    "colab": {
     "base_uri": "https://localhost:8080/"
    },
    "id": "o6iWEGLLQQ8f",
    "outputId": "3776284c-eebb-4ebf-ec81-85aa506c0261"
   },
   "outputs": [
    {
     "name": "stdout",
     "output_type": "stream",
     "text": [
      "  % Total    % Received % Xferd  Average Speed   Time    Time     Time  Current\n",
      "                                 Dload  Upload   Total   Spent    Left  Speed\n",
      "\r  0     0    0     0    0     0      0      0 --:--:-- --:--:-- --:--:--     0\r100  2659  100  2659    0     0  35209      0 --:--:-- --:--:-- --:--:-- 35453\n",
      "Warning: apt-key is deprecated. Manage keyring files in trusted.gpg.d instead (see apt-key(8)).\n",
      "OK\n",
      "deb https://packages.cloud.google.com/apt coral-edgetpu-stable main\n",
      "Get:1 https://cloud.r-project.org/bin/linux/ubuntu jammy-cran40/ InRelease [3,626 B]\n",
      "Get:2 https://developer.download.nvidia.com/compute/cuda/repos/ubuntu2204/x86_64  InRelease [1,581 B]\n",
      "Hit:3 http://archive.ubuntu.com/ubuntu jammy InRelease\n",
      "Get:4 http://archive.ubuntu.com/ubuntu jammy-updates InRelease [119 kB]\n",
      "Get:5 https://packages.cloud.google.com/apt coral-edgetpu-stable InRelease [6,332 B]\n",
      "Get:6 http://security.ubuntu.com/ubuntu jammy-security InRelease [110 kB]\n",
      "Get:7 https://developer.download.nvidia.com/compute/cuda/repos/ubuntu2204/x86_64  Packages [737 kB]\n",
      "Get:8 http://archive.ubuntu.com/ubuntu jammy-backports InRelease [109 kB]\n",
      "Ign:9 https://packages.cloud.google.com/apt coral-edgetpu-stable/main amd64 Packages\n",
      "Hit:10 https://ppa.launchpadcontent.net/c2d4u.team/c2d4u4.0+/ubuntu jammy InRelease\n",
      "Get:11 http://archive.ubuntu.com/ubuntu jammy-updates/restricted amd64 Packages [1,998 kB]\n",
      "Hit:12 https://ppa.launchpadcontent.net/deadsnakes/ppa/ubuntu jammy InRelease\n",
      "Get:9 https://packages.cloud.google.com/apt coral-edgetpu-stable/main amd64 Packages [2,317 B]\n",
      "Hit:13 https://ppa.launchpadcontent.net/graphics-drivers/ppa/ubuntu jammy InRelease\n",
      "Hit:14 https://ppa.launchpadcontent.net/ubuntugis/ppa/ubuntu jammy InRelease\n",
      "Get:15 http://archive.ubuntu.com/ubuntu jammy-updates/main amd64 Packages [1,848 kB]\n",
      "Get:16 http://security.ubuntu.com/ubuntu jammy-security/main amd64 Packages [1,569 kB]\n",
      "Get:17 http://archive.ubuntu.com/ubuntu jammy-updates/universe amd64 Packages [1,353 kB]\n",
      "Get:18 http://archive.ubuntu.com/ubuntu jammy-backports/universe amd64 Packages [33.3 kB]\n",
      "Get:19 http://security.ubuntu.com/ubuntu jammy-security/restricted amd64 Packages [1,961 kB]\n",
      "Get:20 http://security.ubuntu.com/ubuntu jammy-security/universe amd64 Packages [1,079 kB]\n",
      "Fetched 10.9 MB in 2s (4,875 kB/s)\n",
      "Reading package lists... Done\n",
      "W: https://packages.cloud.google.com/apt/dists/coral-edgetpu-stable/InRelease: Key is stored in legacy trusted.gpg keyring (/etc/apt/trusted.gpg), see the DEPRECATION section in apt-key(8) for details.\n",
      "Reading package lists... Done\n",
      "Building dependency tree... Done\n",
      "Reading state information... Done\n",
      "The following NEW packages will be installed:\n",
      "  edgetpu-compiler\n",
      "0 upgraded, 1 newly installed, 0 to remove and 38 not upgraded.\n",
      "Need to get 7,913 kB of archives.\n",
      "After this operation, 31.2 MB of additional disk space will be used.\n",
      "Get:1 https://packages.cloud.google.com/apt coral-edgetpu-stable/main amd64 edgetpu-compiler amd64 16.0 [7,913 kB]\n",
      "Fetched 7,913 kB in 1s (11.1 MB/s)\n",
      "debconf: unable to initialize frontend: Dialog\n",
      "debconf: (No usable dialog-like program is installed, so the dialog based frontend cannot be used. at /usr/share/perl5/Debconf/FrontEnd/Dialog.pm line 78, <> line 1.)\n",
      "debconf: falling back to frontend: Readline\n",
      "debconf: unable to initialize frontend: Readline\n",
      "debconf: (This frontend requires a controlling tty.)\n",
      "debconf: falling back to frontend: Teletype\n",
      "dpkg-preconfigure: unable to re-open stdin: \n",
      "Selecting previously unselected package edgetpu-compiler.\n",
      "(Reading database ... 121752 files and directories currently installed.)\n",
      "Preparing to unpack .../edgetpu-compiler_16.0_amd64.deb ...\n",
      "Unpacking edgetpu-compiler (16.0) ...\n",
      "Setting up edgetpu-compiler (16.0) ...\n",
      "Processing triggers for libc-bin (2.35-0ubuntu3.4) ...\n",
      "/sbin/ldconfig.real: /usr/local/lib/libtbbmalloc.so.2 is not a symbolic link\n",
      "\n",
      "/sbin/ldconfig.real: /usr/local/lib/libtbb.so.12 is not a symbolic link\n",
      "\n",
      "/sbin/ldconfig.real: /usr/local/lib/libtbbbind_2_0.so.3 is not a symbolic link\n",
      "\n",
      "/sbin/ldconfig.real: /usr/local/lib/libtbbbind.so.3 is not a symbolic link\n",
      "\n",
      "/sbin/ldconfig.real: /usr/local/lib/libtbbbind_2_5.so.3 is not a symbolic link\n",
      "\n",
      "/sbin/ldconfig.real: /usr/local/lib/libtbbmalloc_proxy.so.2 is not a symbolic link\n",
      "\n"
     ]
    }
   ],
   "source": [
    "! curl https://packages.cloud.google.com/apt/doc/apt-key.gpg | sudo apt-key add -\n",
    "\n",
    "! echo \"deb https://packages.cloud.google.com/apt coral-edgetpu-stable main\" | sudo tee /etc/apt/sources.list.d/coral-edgetpu.list\n",
    "\n",
    "! sudo apt-get update\n",
    "\n",
    "! sudo apt-get install edgetpu-compiler"
   ]
  }
 ],
 "metadata": {
  "colab": {
   "provenance": []
  },
  "kernelspec": {
   "display_name": "Python 3",
   "name": "python3"
  },
  "language_info": {
   "name": "python"
  }
 },
 "nbformat": 4,
 "nbformat_minor": 0
}
