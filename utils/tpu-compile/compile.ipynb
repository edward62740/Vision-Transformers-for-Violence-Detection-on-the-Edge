{
 "cells": [
  {
   "cell_type": "code",
   "execution_count": null,
   "metadata": {
    "colab": {
     "base_uri": "https://localhost:8080/"
    },
    "id": "mt-p5annzb1D",
    "outputId": "3e89d627-b429-43ff-b69d-6c10ad09db30"
   },
   "outputs": [
    {
     "name": "stdout",
     "output_type": "stream",
     "text": [
      "\u001b[31mERROR: Could not find a version that satisfies the requirement tensorflow==2.6.0 (from versions: 2.8.0rc0, 2.8.0rc1, 2.8.0, 2.8.1, 2.8.2, 2.8.3, 2.8.4, 2.9.0rc0, 2.9.0rc1, 2.9.0rc2, 2.9.0, 2.9.1, 2.9.2, 2.9.3, 2.10.0rc0, 2.10.0rc1, 2.10.0rc2, 2.10.0rc3, 2.10.0, 2.10.1, 2.11.0rc0, 2.11.0rc1, 2.11.0rc2, 2.11.0, 2.11.1, 2.12.0rc0, 2.12.0rc1, 2.12.0, 2.12.1, 2.13.0rc0, 2.13.0rc1, 2.13.0rc2, 2.13.0, 2.13.1, 2.14.0rc0, 2.14.0rc1, 2.14.0)\u001b[0m\u001b[31m\n",
      "\u001b[0m\u001b[31mERROR: No matching distribution found for tensorflow==2.6.0\u001b[0m\u001b[31m\n",
      "\u001b[0m"
     ]
    }
   ],
   "source": [
    "!pip install tensorflow==2.6.0 keras==2.6.0"
   ]
  },
  {
   "cell_type": "code",
   "execution_count": null,
   "metadata": {
    "colab": {
     "base_uri": "https://localhost:8080/"
    },
    "id": "iTmUFmHQZWAm",
    "outputId": "dc07993d-ef01-4653-953a-86d3e7b6c1c1"
   },
   "outputs": [
    {
     "name": "stdout",
     "output_type": "stream",
     "text": [
      "Requirement already satisfied: onnx in /usr/local/lib/python3.10/dist-packages (1.14.0)\n",
      "Requirement already satisfied: numpy in /usr/local/lib/python3.10/dist-packages (from onnx) (1.22.4)\n",
      "Requirement already satisfied: protobuf>=3.20.2 in /usr/local/lib/python3.10/dist-packages (from onnx) (3.20.3)\n",
      "Requirement already satisfied: typing-extensions>=3.6.2.1 in /usr/local/lib/python3.10/dist-packages (from onnx) (4.7.1)\n"
     ]
    }
   ],
   "source": [
    "!pip install --upgrade onnx"
   ]
  },
  {
   "cell_type": "code",
   "execution_count": null,
   "metadata": {
    "colab": {
     "base_uri": "https://localhost:8080/"
    },
    "id": "8kCpvQouwnSR",
    "outputId": "42944140-eba9-4ca7-cdeb-a7d43464e647"
   },
   "outputs": [
    {
     "name": "stdout",
     "output_type": "stream",
     "text": [
      "2.14.0\n"
     ]
    }
   ],
   "source": [
    "import numpy as np\n",
    "import tensorflow as tf\n",
    "import tensorflow_hub as hub\n",
    "print(tf.__version__)\n",
    "import torch\n",
    "import keras\n",
    "import gc"
   ]
  },
  {
   "cell_type": "code",
   "execution_count": null,
   "metadata": {
    "colab": {
     "base_uri": "https://localhost:8080/"
    },
    "id": "vtVmpz1qFTIF",
    "outputId": "19f4317e-1f09-45ab-fc89-dd6ed201976e"
   },
   "outputs": [
    {
     "name": "stdout",
     "output_type": "stream",
     "text": [
      "Collecting keras_cv_attention_models\n",
      "  Downloading keras_cv_attention_models-1.3.22-py3-none-any.whl (773 kB)\n",
      "\u001b[2K     \u001b[90m━━━━━━━━━━━━━━━━━━━━━━━━━━━━━━━━━━━━━━━━\u001b[0m \u001b[32m773.2/773.2 kB\u001b[0m \u001b[31m5.5 MB/s\u001b[0m eta \u001b[36m0:00:00\u001b[0m\n",
      "\u001b[?25hRequirement already satisfied: pillow in /usr/local/lib/python3.10/dist-packages (from keras_cv_attention_models) (9.4.0)\n",
      "Collecting ftfy (from keras_cv_attention_models)\n",
      "  Downloading ftfy-6.1.3-py3-none-any.whl (53 kB)\n",
      "\u001b[2K     \u001b[90m━━━━━━━━━━━━━━━━━━━━━━━━━━━━━━━━━━━━━━━━\u001b[0m \u001b[32m53.4/53.4 kB\u001b[0m \u001b[31m7.7 MB/s\u001b[0m eta \u001b[36m0:00:00\u001b[0m\n",
      "\u001b[?25hRequirement already satisfied: regex in /usr/local/lib/python3.10/dist-packages (from keras_cv_attention_models) (2023.6.3)\n",
      "Requirement already satisfied: tensorflow-datasets in /usr/local/lib/python3.10/dist-packages (from keras_cv_attention_models) (4.9.3)\n",
      "Requirement already satisfied: tensorflow in /usr/local/lib/python3.10/dist-packages (from keras_cv_attention_models) (2.15.0)\n",
      "Requirement already satisfied: wcwidth<0.3.0,>=0.2.12 in /usr/local/lib/python3.10/dist-packages (from ftfy->keras_cv_attention_models) (0.2.12)\n",
      "Requirement already satisfied: absl-py>=1.0.0 in /usr/local/lib/python3.10/dist-packages (from tensorflow->keras_cv_attention_models) (1.4.0)\n",
      "Requirement already satisfied: astunparse>=1.6.0 in /usr/local/lib/python3.10/dist-packages (from tensorflow->keras_cv_attention_models) (1.6.3)\n",
      "Requirement already satisfied: flatbuffers>=23.5.26 in /usr/local/lib/python3.10/dist-packages (from tensorflow->keras_cv_attention_models) (23.5.26)\n",
      "Requirement already satisfied: gast!=0.5.0,!=0.5.1,!=0.5.2,>=0.2.1 in /usr/local/lib/python3.10/dist-packages (from tensorflow->keras_cv_attention_models) (0.5.4)\n",
      "Requirement already satisfied: google-pasta>=0.1.1 in /usr/local/lib/python3.10/dist-packages (from tensorflow->keras_cv_attention_models) (0.2.0)\n",
      "Requirement already satisfied: h5py>=2.9.0 in /usr/local/lib/python3.10/dist-packages (from tensorflow->keras_cv_attention_models) (3.9.0)\n",
      "Requirement already satisfied: libclang>=13.0.0 in /usr/local/lib/python3.10/dist-packages (from tensorflow->keras_cv_attention_models) (16.0.6)\n",
      "Requirement already satisfied: ml-dtypes~=0.2.0 in /usr/local/lib/python3.10/dist-packages (from tensorflow->keras_cv_attention_models) (0.2.0)\n",
      "Requirement already satisfied: numpy<2.0.0,>=1.23.5 in /usr/local/lib/python3.10/dist-packages (from tensorflow->keras_cv_attention_models) (1.23.5)\n",
      "Requirement already satisfied: opt-einsum>=2.3.2 in /usr/local/lib/python3.10/dist-packages (from tensorflow->keras_cv_attention_models) (3.3.0)\n",
      "Requirement already satisfied: packaging in /usr/local/lib/python3.10/dist-packages (from tensorflow->keras_cv_attention_models) (23.2)\n",
      "Requirement already satisfied: protobuf!=4.21.0,!=4.21.1,!=4.21.2,!=4.21.3,!=4.21.4,!=4.21.5,<5.0.0dev,>=3.20.3 in /usr/local/lib/python3.10/dist-packages (from tensorflow->keras_cv_attention_models) (3.20.3)\n",
      "Requirement already satisfied: setuptools in /usr/local/lib/python3.10/dist-packages (from tensorflow->keras_cv_attention_models) (67.7.2)\n",
      "Requirement already satisfied: six>=1.12.0 in /usr/local/lib/python3.10/dist-packages (from tensorflow->keras_cv_attention_models) (1.16.0)\n",
      "Requirement already satisfied: termcolor>=1.1.0 in /usr/local/lib/python3.10/dist-packages (from tensorflow->keras_cv_attention_models) (2.4.0)\n",
      "Requirement already satisfied: typing-extensions>=3.6.6 in /usr/local/lib/python3.10/dist-packages (from tensorflow->keras_cv_attention_models) (4.5.0)\n",
      "Requirement already satisfied: wrapt<1.15,>=1.11.0 in /usr/local/lib/python3.10/dist-packages (from tensorflow->keras_cv_attention_models) (1.14.1)\n",
      "Requirement already satisfied: tensorflow-io-gcs-filesystem>=0.23.1 in /usr/local/lib/python3.10/dist-packages (from tensorflow->keras_cv_attention_models) (0.34.0)\n",
      "Requirement already satisfied: grpcio<2.0,>=1.24.3 in /usr/local/lib/python3.10/dist-packages (from tensorflow->keras_cv_attention_models) (1.60.0)\n",
      "Requirement already satisfied: tensorboard<2.16,>=2.15 in /usr/local/lib/python3.10/dist-packages (from tensorflow->keras_cv_attention_models) (2.15.1)\n",
      "Requirement already satisfied: tensorflow-estimator<2.16,>=2.15.0 in /usr/local/lib/python3.10/dist-packages (from tensorflow->keras_cv_attention_models) (2.15.0)\n",
      "Requirement already satisfied: keras<2.16,>=2.15.0 in /usr/local/lib/python3.10/dist-packages (from tensorflow->keras_cv_attention_models) (2.15.0)\n",
      "Requirement already satisfied: array-record in /usr/local/lib/python3.10/dist-packages (from tensorflow-datasets->keras_cv_attention_models) (0.5.0)\n",
      "Requirement already satisfied: click in /usr/local/lib/python3.10/dist-packages (from tensorflow-datasets->keras_cv_attention_models) (8.1.7)\n",
      "Requirement already satisfied: dm-tree in /usr/local/lib/python3.10/dist-packages (from tensorflow-datasets->keras_cv_attention_models) (0.1.8)\n",
      "Requirement already satisfied: etils[enp,epath,etree]>=0.9.0 in /usr/local/lib/python3.10/dist-packages (from tensorflow-datasets->keras_cv_attention_models) (1.6.0)\n",
      "Requirement already satisfied: promise in /usr/local/lib/python3.10/dist-packages (from tensorflow-datasets->keras_cv_attention_models) (2.3)\n",
      "Requirement already satisfied: psutil in /usr/local/lib/python3.10/dist-packages (from tensorflow-datasets->keras_cv_attention_models) (5.9.5)\n",
      "Requirement already satisfied: requests>=2.19.0 in /usr/local/lib/python3.10/dist-packages (from tensorflow-datasets->keras_cv_attention_models) (2.31.0)\n",
      "Requirement already satisfied: tensorflow-metadata in /usr/local/lib/python3.10/dist-packages (from tensorflow-datasets->keras_cv_attention_models) (1.14.0)\n",
      "Requirement already satisfied: toml in /usr/local/lib/python3.10/dist-packages (from tensorflow-datasets->keras_cv_attention_models) (0.10.2)\n",
      "Requirement already satisfied: tqdm in /usr/local/lib/python3.10/dist-packages (from tensorflow-datasets->keras_cv_attention_models) (4.66.1)\n",
      "Requirement already satisfied: wheel<1.0,>=0.23.0 in /usr/local/lib/python3.10/dist-packages (from astunparse>=1.6.0->tensorflow->keras_cv_attention_models) (0.42.0)\n",
      "Requirement already satisfied: fsspec in /usr/local/lib/python3.10/dist-packages (from etils[enp,epath,etree]>=0.9.0->tensorflow-datasets->keras_cv_attention_models) (2023.6.0)\n",
      "Requirement already satisfied: importlib_resources in /usr/local/lib/python3.10/dist-packages (from etils[enp,epath,etree]>=0.9.0->tensorflow-datasets->keras_cv_attention_models) (6.1.1)\n",
      "Requirement already satisfied: zipp in /usr/local/lib/python3.10/dist-packages (from etils[enp,epath,etree]>=0.9.0->tensorflow-datasets->keras_cv_attention_models) (3.17.0)\n",
      "Requirement already satisfied: charset-normalizer<4,>=2 in /usr/local/lib/python3.10/dist-packages (from requests>=2.19.0->tensorflow-datasets->keras_cv_attention_models) (3.3.2)\n",
      "Requirement already satisfied: idna<4,>=2.5 in /usr/local/lib/python3.10/dist-packages (from requests>=2.19.0->tensorflow-datasets->keras_cv_attention_models) (3.6)\n",
      "Requirement already satisfied: urllib3<3,>=1.21.1 in /usr/local/lib/python3.10/dist-packages (from requests>=2.19.0->tensorflow-datasets->keras_cv_attention_models) (2.0.7)\n",
      "Requirement already satisfied: certifi>=2017.4.17 in /usr/local/lib/python3.10/dist-packages (from requests>=2.19.0->tensorflow-datasets->keras_cv_attention_models) (2023.11.17)\n",
      "Requirement already satisfied: google-auth<3,>=1.6.3 in /usr/local/lib/python3.10/dist-packages (from tensorboard<2.16,>=2.15->tensorflow->keras_cv_attention_models) (2.17.3)\n",
      "Requirement already satisfied: google-auth-oauthlib<2,>=0.5 in /usr/local/lib/python3.10/dist-packages (from tensorboard<2.16,>=2.15->tensorflow->keras_cv_attention_models) (1.2.0)\n",
      "Requirement already satisfied: markdown>=2.6.8 in /usr/local/lib/python3.10/dist-packages (from tensorboard<2.16,>=2.15->tensorflow->keras_cv_attention_models) (3.5.1)\n",
      "Requirement already satisfied: tensorboard-data-server<0.8.0,>=0.7.0 in /usr/local/lib/python3.10/dist-packages (from tensorboard<2.16,>=2.15->tensorflow->keras_cv_attention_models) (0.7.2)\n",
      "Requirement already satisfied: werkzeug>=1.0.1 in /usr/local/lib/python3.10/dist-packages (from tensorboard<2.16,>=2.15->tensorflow->keras_cv_attention_models) (3.0.1)\n",
      "Requirement already satisfied: googleapis-common-protos<2,>=1.52.0 in /usr/local/lib/python3.10/dist-packages (from tensorflow-metadata->tensorflow-datasets->keras_cv_attention_models) (1.62.0)\n",
      "Requirement already satisfied: cachetools<6.0,>=2.0.0 in /usr/local/lib/python3.10/dist-packages (from google-auth<3,>=1.6.3->tensorboard<2.16,>=2.15->tensorflow->keras_cv_attention_models) (5.3.2)\n",
      "Requirement already satisfied: pyasn1-modules>=0.2.1 in /usr/local/lib/python3.10/dist-packages (from google-auth<3,>=1.6.3->tensorboard<2.16,>=2.15->tensorflow->keras_cv_attention_models) (0.3.0)\n",
      "Requirement already satisfied: rsa<5,>=3.1.4 in /usr/local/lib/python3.10/dist-packages (from google-auth<3,>=1.6.3->tensorboard<2.16,>=2.15->tensorflow->keras_cv_attention_models) (4.9)\n",
      "Requirement already satisfied: requests-oauthlib>=0.7.0 in /usr/local/lib/python3.10/dist-packages (from google-auth-oauthlib<2,>=0.5->tensorboard<2.16,>=2.15->tensorflow->keras_cv_attention_models) (1.3.1)\n",
      "Requirement already satisfied: MarkupSafe>=2.1.1 in /usr/local/lib/python3.10/dist-packages (from werkzeug>=1.0.1->tensorboard<2.16,>=2.15->tensorflow->keras_cv_attention_models) (2.1.3)\n",
      "Requirement already satisfied: pyasn1<0.6.0,>=0.4.6 in /usr/local/lib/python3.10/dist-packages (from pyasn1-modules>=0.2.1->google-auth<3,>=1.6.3->tensorboard<2.16,>=2.15->tensorflow->keras_cv_attention_models) (0.5.1)\n",
      "Requirement already satisfied: oauthlib>=3.0.0 in /usr/local/lib/python3.10/dist-packages (from requests-oauthlib>=0.7.0->google-auth-oauthlib<2,>=0.5->tensorboard<2.16,>=2.15->tensorflow->keras_cv_attention_models) (3.2.2)\n",
      "Installing collected packages: ftfy, keras_cv_attention_models\n",
      "Successfully installed ftfy-6.1.3 keras_cv_attention_models-1.3.22\n"
     ]
    }
   ],
   "source": [
    "!pip install keras_cv_attention_models\n"
   ]
  },
  {
   "cell_type": "code",
   "execution_count": null,
   "metadata": {
    "colab": {
     "base_uri": "https://localhost:8080/"
    },
    "id": "ZSTb0poqctmS",
    "outputId": "553463ce-9728-4a0f-98c4-0a682196d97c"
   },
   "outputs": [
    {
     "name": "stdout",
     "output_type": "stream",
     "text": [
      "Collecting tflite_runtime\n",
      "  Downloading tflite_runtime-2.14.0-cp310-cp310-manylinux2014_x86_64.whl (2.4 MB)\n",
      "\u001b[2K     \u001b[90m━━━━━━━━━━━━━━━━━━━━━━━━━━━━━━━━━━━━━━━━\u001b[0m \u001b[32m2.4/2.4 MB\u001b[0m \u001b[31m11.5 MB/s\u001b[0m eta \u001b[36m0:00:00\u001b[0m\n",
      "\u001b[?25hRequirement already satisfied: numpy>=1.23.2 in /usr/local/lib/python3.10/dist-packages (from tflite_runtime) (1.23.5)\n",
      "Installing collected packages: tflite_runtime\n",
      "Successfully installed tflite_runtime-2.14.0\n",
      "Requirement already satisfied: tflite in /usr/local/lib/python3.10/dist-packages (2.10.0)\n",
      "Requirement already satisfied: flatbuffers in /usr/local/lib/python3.10/dist-packages (from tflite) (23.5.26)\n",
      "Requirement already satisfied: numpy in /usr/local/lib/python3.10/dist-packages (from tflite) (1.23.5)\n"
     ]
    }
   ],
   "source": [
    "!pip install tflite_runtime\n",
    "!pip install tflite"
   ]
  },
  {
   "cell_type": "code",
   "execution_count": null,
   "metadata": {
    "colab": {
     "base_uri": "https://localhost:8080/",
     "height": 366.0
    },
    "id": "zJuyQQj_uiCh",
    "outputId": "e0a02501-b4b8-46ac-a5e4-cb90bcbb1122"
   },
   "outputs": [
    {
     "ename": "ModuleNotFoundError",
     "evalue": "ignored",
     "traceback": [
      "\u001b[0;31m---------------------------------------------------------------------------\u001b[0m",
      "\u001b[0;31mModuleNotFoundError\u001b[0m                       Traceback (most recent call last)",
      "\u001b[0;32m<ipython-input-3-84cda91c89cd>\u001b[0m in \u001b[0;36m<cell line: 1>\u001b[0;34m()\u001b[0m\n\u001b[0;32m----> 1\u001b[0;31m \u001b[0;32mfrom\u001b[0m \u001b[0mkeras_cv_attention_models\u001b[0m \u001b[0;32mimport\u001b[0m \u001b[0mefficientvit\u001b[0m\u001b[0;34m\u001b[0m\u001b[0;34m\u001b[0m\u001b[0m\n\u001b[0m\u001b[1;32m      2\u001b[0m \u001b[0;34m\u001b[0m\u001b[0m\n\u001b[1;32m      3\u001b[0m \u001b[0;31m# Will download and load pretrained imagenet weights.\u001b[0m\u001b[0;34m\u001b[0m\u001b[0;34m\u001b[0m\u001b[0m\n\u001b[1;32m      4\u001b[0m \u001b[0mmodel\u001b[0m \u001b[0;34m=\u001b[0m \u001b[0mefficientvit\u001b[0m\u001b[0;34m.\u001b[0m\u001b[0mEfficientViT_B1\u001b[0m\u001b[0;34m(\u001b[0m\u001b[0mpretrained\u001b[0m\u001b[0;34m=\u001b[0m\u001b[0;34m\"imagenet\"\u001b[0m\u001b[0;34m)\u001b[0m\u001b[0;34m\u001b[0m\u001b[0;34m\u001b[0m\u001b[0m\n",
      "\u001b[0;31mModuleNotFoundError\u001b[0m: No module named 'keras_cv_attention_models'",
      "",
      "\u001b[0;31m---------------------------------------------------------------------------\u001b[0;32m\nNOTE: If your import is failing due to a missing package, you can\nmanually install dependencies using either !pip or !apt.\n\nTo view examples of installing some common dependencies, click the\n\"Open Examples\" button below.\n\u001b[0;31m---------------------------------------------------------------------------\u001b[0m\n"
     ],
     "output_type": "error"
    }
   ],
   "source": [
    "from keras_cv_attention_models import efficientvit\n",
    "\n",
    "# Will download and load pretrained imagenet weights.\n",
    "model = efficientvit.EfficientViT_B1(pretrained=\"imagenet\")"
   ]
  },
  {
   "cell_type": "code",
   "execution_count": null,
   "metadata": {
    "id": "LqI3916PO4e1"
   },
   "outputs": [],
   "source": [
    "import h5py\n",
    "import re\n",
    "\n",
    "def get_tensorflow_version(h5):\n",
    "    with h5py.File(h5, 'r') as f:\n",
    "        metadata = f.attrs['model_config']\n",
    "        return metadata\n",
    "\n",
    "print(get_tensorflow_version('efficientvit_b0_224_imagenet.h5'))\n"
   ]
  },
  {
   "cell_type": "markdown",
   "metadata": {
    "id": "LASgbBv-j1m6"
   },
   "source": []
  },
  {
   "cell_type": "code",
   "execution_count": null,
   "metadata": {
    "colab": {
     "base_uri": "https://localhost:8080/"
    },
    "id": "V2aECDIh0Vh-",
    "outputId": "c88f80ad-eab4-414f-e9b7-f504d18d56b7"
   },
   "outputs": [
    {
     "name": "stdout",
     "output_type": "stream",
     "text": [
      "Edge TPU Compiler version 16.0.384591198\n",
      "Started a compilation timeout timer of 180 seconds.\n",
      "\n",
      "Model compiled successfully in 32789 ms.\n",
      "\n",
      "Input model: quantized_spatial_extractor.tflite\n",
      "Input size: 5.82MiB\n",
      "Output model: quantized_spatial_extractor_edgetpu.tflite\n",
      "Output size: 11.13MiB\n",
      "On-chip memory used for caching model parameters: 5.97MiB\n",
      "On-chip memory remaining for caching model parameters: 0.00B\n",
      "Off-chip memory used for streaming uncached model parameters: 2.05MiB\n",
      "Number of Edge TPU subgraphs: 3\n",
      "Total number of operations: 1055\n",
      "Operation log: quantized_spatial_extractor_edgetpu.log\n",
      "\n",
      "Model successfully compiled but not all operations are supported by the Edge TPU. A percentage of the model will instead run on the CPU, which is slower. If possible, consider updating your model to use only operations supported by the Edge TPU. For details, visit g.co/coral/model-reqs.\n",
      "Number of operations that will run on Edge TPU: 1051\n",
      "Number of operations that will run on CPU: 4\n",
      "\n",
      "Operator                       Count      Status\n",
      "\n",
      "RSQRT                          25         Mapped to Edge TPU\n",
      "CONCATENATION                  48         Mapped to Edge TPU\n",
      "CONCATENATION                  1          Operation is working on an unsupported data type\n",
      "TRANSPOSE                      1          Operation is otherwise supported, but not mapped due to some unspecified limitation\n",
      "TRANSPOSE                      121        Mapped to Edge TPU\n",
      "STRIDED_SLICE                  180        Mapped to Edge TPU\n",
      "SUB                            26         Mapped to Edge TPU\n",
      "ADD                            77         Mapped to Edge TPU\n",
      "LOGISTIC                       24         Mapped to Edge TPU\n",
      "MEAN                           50         Mapped to Edge TPU\n",
      "SOFTMAX                        12         Mapped to Edge TPU\n",
      "RESHAPE                        205        Mapped to Edge TPU\n",
      "GATHER                         2          Operation not supported\n",
      "MUL                            138        Mapped to Edge TPU\n",
      "CONV_2D                        49         Mapped to Edge TPU\n",
      "FULLY_CONNECTED                96         Mapped to Edge TPU\n",
      "Compilation child process completed within timeout period.\n",
      "Compilation succeeded! \n"
     ]
    }
   ],
   "source": [
    "! edgetpu_compiler  quantized_spatial_extractor.tflite -sa"
   ]
  },
  {
   "cell_type": "code",
   "execution_count": null,
   "metadata": {
    "colab": {
     "base_uri": "https://localhost:8080/"
    },
    "id": "t_rh2E3RCmRY",
    "outputId": "b9afff71-09ba-48a3-951c-9bf1fd856042"
   },
   "outputs": [
    {
     "name": "stdout",
     "output_type": "stream",
     "text": [
      "Edge TPU Compiler version 16.0.384591198\n",
      "Started a compilation timeout timer of 180 seconds.\n",
      "\n",
      "Models compiled successfully in 32686 ms.\n",
      "\n",
      "Input model: quantized_temporal_extractor.tflite\n",
      "Input size: 2.46MiB\n",
      "Output model: quantized_temporal_extractor_edgetpu.tflite\n",
      "Output size: 3.26MiB\n",
      "On-chip memory used for caching model parameters: 2.34MiB\n",
      "On-chip memory remaining for caching model parameters: 0.00B\n",
      "Off-chip memory used for streaming uncached model parameters: 182.06KiB\n",
      "Number of Edge TPU subgraphs: 4\n",
      "Total number of operations: 221\n",
      "Operation log: quantized_temporal_extractor_edgetpu.log\n",
      "\n",
      "Model successfully compiled but not all operations are supported by the Edge TPU. A percentage of the model will instead run on the CPU, which is slower. If possible, consider updating your model to use only operations supported by the Edge TPU. For details, visit g.co/coral/model-reqs.\n",
      "Number of operations that will run on Edge TPU: 208\n",
      "Number of operations that will run on CPU: 13\n",
      "\n",
      "Operator                       Count      Status\n",
      "\n",
      "LOGISTIC                       1          Mapped to Edge TPU\n",
      "QUANTIZE                       1          Operation is otherwise supported, but not mapped due to some unspecified limitation\n",
      "SUB                            2          Mapped to Edge TPU\n",
      "SQUARED_DIFFERENCE             1          Mapped to Edge TPU\n",
      "SLICE                          64         Mapped to Edge TPU\n",
      "MEAN                           2          For example, a fully-connected or softmax layer with 2D output\n",
      "CAST                           3          Operation is working on an unsupported data type\n",
      "SOFTMAX                        1          Mapped to Edge TPU\n",
      "PACK                           2          Mapped to Edge TPU\n",
      "RESHAPE                        2          Operation is working on an unsupported data type\n",
      "RESHAPE                        44         Mapped to Edge TPU\n",
      "ADD                            7          Mapped to Edge TPU\n",
      "MUL                            4          Mapped to Edge TPU\n",
      "RSQRT                          1          Mapped to Edge TPU\n",
      "FULLY_CONNECTED                40         Mapped to Edge TPU\n",
      "DEQUANTIZE                     2          Operation is working on an unsupported data type\n",
      "GATHER                         1          Operation not supported\n",
      "REDUCE_ANY                     1          Operation is working on an unsupported data type\n",
      "CONCATENATION                  1          Mapped to Edge TPU\n",
      "STRIDED_SLICE                  1          Mapped to Edge TPU\n",
      "STRIDED_SLICE                  1          Operation is working on an unsupported data type\n",
      "TRANSPOSE                      39         Mapped to Edge TPU\n",
      "\n",
      "Input model: quantized_spatial_extractor.tflite\n",
      "Input size: 5.82MiB\n",
      "Output model: quantized_spatial_extractor_edgetpu.tflite\n",
      "Output size: 11.13MiB\n",
      "On-chip memory used for caching model parameters: 3.63MiB\n",
      "On-chip memory remaining for caching model parameters: 0.00B\n",
      "Off-chip memory used for streaming uncached model parameters: 4.38MiB\n",
      "Number of Edge TPU subgraphs: 3\n",
      "Total number of operations: 1055\n",
      "Operation log: quantized_spatial_extractor_edgetpu.log\n",
      "\n",
      "Model successfully compiled but not all operations are supported by the Edge TPU. A percentage of the model will instead run on the CPU, which is slower. If possible, consider updating your model to use only operations supported by the Edge TPU. For details, visit g.co/coral/model-reqs.\n",
      "Number of operations that will run on Edge TPU: 1051\n",
      "Number of operations that will run on CPU: 4\n",
      "\n",
      "Operator                       Count      Status\n",
      "\n",
      "FULLY_CONNECTED                96         Mapped to Edge TPU\n",
      "CONV_2D                        49         Mapped to Edge TPU\n",
      "RSQRT                          25         Mapped to Edge TPU\n",
      "GATHER                         2          Operation not supported\n",
      "SOFTMAX                        12         Mapped to Edge TPU\n",
      "CONCATENATION                  48         Mapped to Edge TPU\n",
      "CONCATENATION                  1          Operation is working on an unsupported data type\n",
      "RESHAPE                        205        Mapped to Edge TPU\n",
      "STRIDED_SLICE                  180        Mapped to Edge TPU\n",
      "TRANSPOSE                      1          Operation is otherwise supported, but not mapped due to some unspecified limitation\n",
      "TRANSPOSE                      121        Mapped to Edge TPU\n",
      "LOGISTIC                       24         Mapped to Edge TPU\n",
      "SUB                            26         Mapped to Edge TPU\n",
      "MUL                            138        Mapped to Edge TPU\n",
      "MEAN                           50         Mapped to Edge TPU\n",
      "ADD                            77         Mapped to Edge TPU\n",
      "Compilation child process completed within timeout period.\n",
      "Compilation succeeded! \n"
     ]
    }
   ],
   "source": [
    "! edgetpu_compiler  quantized_temporal_extractor.tflite  quantized_spatial_extractor.tflite -sa"
   ]
  },
  {
   "cell_type": "code",
   "execution_count": null,
   "metadata": {
    "colab": {
     "base_uri": "https://localhost:8080/"
    },
    "id": "9XlzIwZPo6sy",
    "outputId": "aa64f8b5-f221-46ca-afab-53d864874158"
   },
   "outputs": [
    {
     "name": "stdout",
     "output_type": "stream",
     "text": [
      "edgetpu_compiler quantized_spatial_extractor.tflite -as -i \"transformer_block_0/layer_normalization_1/batchnorm/sub,transformer_block_0/layer_normalization_1/batchnorm/add_1,Tensordot;transformer_block_0/dense/StatefulPartitionedCall/StatefulPartitionedCall/Tensordot;BiasAdd;transformer_block_0/dense/StatefulPartitionedCall/StatefulPartitionedCall/BiasAdd,tfl.dequantize,Gelu/Pow;transformer_block_0/dense/StatefulPartitionedCall/StatefulPartitionedCall/Gelu/Pow,tfl.quantize,Gelu/mul_1;transformer_block_0/dense/StatefulPartitionedCall/StatefulPartitionedCall/Gelu/mul_1,Gelu/add;transformer_block_0/dense/StatefulPartitionedCall/StatefulPartitionedCall/Gelu/add,Gelu/mul_2;transformer_block_0/dense/StatefulPartitionedCall/StatefulPartitionedCall/Gelu/mul_2,Gelu/Tanh;transformer_block_0/dense/StatefulPartitionedCall/StatefulPartitionedCall/Gelu/Tanh,Gelu/add_1;transformer_block_0/dense/StatefulPartitionedCall/StatefulPartitionedCall/Gelu/add_1,transformer_block_1/layer_normalization_1/batchnorm/sub,transformer_block_1/layer_normalization_1/batchnorm/add_1,Tensordot;transformer_block_1/dense/StatefulPartitionedCall/StatefulPartitionedCall/Tensordot;BiasAdd;transformer_block_1/dense/StatefulPartitionedCall/StatefulPartitionedCall/BiasAdd,tfl.dequantize,Gelu/Pow;transformer_block_1/dense/StatefulPartitionedCall/StatefulPartitionedCall/Gelu/Pow,tfl.quantize,Gelu/mul_1;transformer_block_1/dense/StatefulPartitionedCall/StatefulPartitionedCall/Gelu/mul_1,Gelu/add;transformer_block_1/dense/StatefulPartitionedCall/StatefulPartitionedCall/Gelu/add,Gelu/mul_2;transformer_block_1/dense/StatefulPartitionedCall/StatefulPartitionedCall/Gelu/mul_2,Gelu/Tanh;transformer_block_1/dense/StatefulPartitionedCall/StatefulPartitionedCall/Gelu/Tanh,Gelu/add_1;transformer_block_1/dense/StatefulPartitionedCall/StatefulPartitionedCall/Gelu/add_1,transformer_block_2/layer_normalization_1/batchnorm/sub,transformer_block_2/layer_normalization_1/batchnorm/add_1,Tensordot;transformer_block_2/dense/StatefulPartitionedCall/StatefulPartitionedCall/Tensordot;BiasAdd;transformer_block_2/dense/StatefulPartitionedCall/StatefulPartitionedCall/BiasAdd,tfl.dequantize,Gelu/Pow;transformer_block_2/dense/StatefulPartitionedCall/StatefulPartitionedCall/Gelu/Pow,tfl.quantize,Gelu/mul_1;transformer_block_2/dense/StatefulPartitionedCall/StatefulPartitionedCall/Gelu/mul_1,Gelu/add;transformer_block_2/dense/StatefulPartitionedCall/StatefulPartitionedCall/Gelu/add,Gelu/mul_2;transformer_block_2/dense/StatefulPartitionedCall/StatefulPartitionedCall/Gelu/mul_2,Gelu/Tanh;transformer_block_2/dense/StatefulPartitionedCall/StatefulPartitionedCall/Gelu/Tanh,Gelu/add_1;transformer_block_2/dense/StatefulPartitionedCall/StatefulPartitionedCall/Gelu/add_1,transformer_block_3/layer_normalization_1/batchnorm/sub,transformer_block_3/layer_normalization_1/batchnorm/add_1,Tensordot;transformer_block_3/dense/StatefulPartitionedCall/StatefulPartitionedCall/Tensordot;BiasAdd;transformer_block_3/dense/StatefulPartitionedCall/StatefulPartitionedCall/BiasAdd,tfl.dequantize,Gelu/Pow;transformer_block_3/dense/StatefulPartitionedCall/StatefulPartitionedCall/Gelu/Pow,tfl.quantize,Gelu/mul_1;transformer_block_3/dense/StatefulPartitionedCall/StatefulPartitionedCall/Gelu/mul_1,Gelu/add;transformer_block_3/dense/StatefulPartitionedCall/StatefulPartitionedCall/Gelu/add,Gelu/mul_2;transformer_block_3/dense/StatefulPartitionedCall/StatefulPartitionedCall/Gelu/mul_2,Gelu/Tanh;transformer_block_3/dense/StatefulPartitionedCall/StatefulPartitionedCall/Gelu/Tanh,Gelu/add_1;transformer_block_3/dense/StatefulPartitionedCall/StatefulPartitionedCall/Gelu/add_1,transformer_block_4/layer_normalization_1/batchnorm/sub,transformer_block_4/layer_normalization_1/batchnorm/add_1,Tensordot;transformer_block_4/dense/StatefulPartitionedCall/StatefulPartitionedCall/Tensordot;BiasAdd;transformer_block_4/dense/StatefulPartitionedCall/StatefulPartitionedCall/BiasAdd,tfl.dequantize,Gelu/Pow;transformer_block_4/dense/StatefulPartitionedCall/StatefulPartitionedCall/Gelu/Pow,tfl.quantize,Gelu/mul_1;transformer_block_4/dense/StatefulPartitionedCall/StatefulPartitionedCall/Gelu/mul_1,Gelu/add;transformer_block_4/dense/StatefulPartitionedCall/StatefulPartitionedCall/Gelu/add,Gelu/mul_2;transformer_block_4/dense/StatefulPartitionedCall/StatefulPartitionedCall/Gelu/mul_2,Gelu/Tanh;transformer_block_4/dense/StatefulPartitionedCall/StatefulPartitionedCall/Gelu/Tanh,Gelu/add_1;transformer_block_4/dense/StatefulPartitionedCall/StatefulPartitionedCall/Gelu/add_1,transformer_block_5/layer_normalization_1/batchnorm/sub,transformer_block_5/layer_normalization_1/batchnorm/add_1,Tensordot;transformer_block_5/dense/StatefulPartitionedCall/StatefulPartitionedCall/Tensordot;BiasAdd;transformer_block_5/dense/StatefulPartitionedCall/StatefulPartitionedCall/BiasAdd,tfl.dequantize,Gelu/Pow;transformer_block_5/dense/StatefulPartitionedCall/StatefulPartitionedCall/Gelu/Pow,tfl.quantize,Gelu/mul_1;transformer_block_5/dense/StatefulPartitionedCall/StatefulPartitionedCall/Gelu/mul_1,Gelu/add;transformer_block_5/dense/StatefulPartitionedCall/StatefulPartitionedCall/Gelu/add,Gelu/mul_2;transformer_block_5/dense/StatefulPartitionedCall/StatefulPartitionedCall/Gelu/mul_2,Gelu/Tanh;transformer_block_5/dense/StatefulPartitionedCall/StatefulPartitionedCall/Gelu/Tanh,Gelu/add_1;transformer_block_5/dense/StatefulPartitionedCall/StatefulPartitionedCall/Gelu/add_1,transformer_block_6/layer_normalization_1/batchnorm/sub,transformer_block_6/layer_normalization_1/batchnorm/add_1,Tensordot;transformer_block_6/dense/StatefulPartitionedCall/StatefulPartitionedCall/Tensordot;BiasAdd;transformer_block_6/dense/StatefulPartitionedCall/StatefulPartitionedCall/BiasAdd,tfl.dequantize,Gelu/Pow;transformer_block_6/dense/StatefulPartitionedCall/StatefulPartitionedCall/Gelu/Pow,tfl.quantize,Gelu/mul_1;transformer_block_6/dense/StatefulPartitionedCall/StatefulPartitionedCall/Gelu/mul_1,Gelu/add;transformer_block_6/dense/StatefulPartitionedCall/StatefulPartitionedCall/Gelu/add,Gelu/mul_2;transformer_block_6/dense/StatefulPartitionedCall/StatefulPartitionedCall/Gelu/mul_2,Gelu/Tanh;transformer_block_6/dense/StatefulPartitionedCall/StatefulPartitionedCall/Gelu/Tanh,Gelu/add_1;transformer_block_6/dense/StatefulPartitionedCall/StatefulPartitionedCall/Gelu/add_1,transformer_block_7/layer_normalization_1/batchnorm/sub,transformer_block_7/layer_normalization_1/batchnorm/add_1,Tensordot;transformer_block_7/dense/StatefulPartitionedCall/StatefulPartitionedCall/Tensordot;BiasAdd;transformer_block_7/dense/StatefulPartitionedCall/StatefulPartitionedCall/BiasAdd,tfl.dequantize,Gelu/Pow;transformer_block_7/dense/StatefulPartitionedCall/StatefulPartitionedCall/Gelu/Pow,tfl.quantize,Gelu/mul_1;transformer_block_7/dense/StatefulPartitionedCall/StatefulPartitionedCall/Gelu/mul_1,Gelu/add;transformer_block_7/dense/StatefulPartitionedCall/StatefulPartitionedCall/Gelu/add,Gelu/mul_2;transformer_block_7/dense/StatefulPartitionedCall/StatefulPartitionedCall/Gelu/mul_2,Gelu/Tanh;transformer_block_7/dense/StatefulPartitionedCall/StatefulPartitionedCall/Gelu/Tanh,Gelu/add_1;transformer_block_7/dense/StatefulPartitionedCall/StatefulPartitionedCall/Gelu/add_1,transformer_block_8/layer_normalization_1/batchnorm/sub,transformer_block_8/layer_normalization_1/batchnorm/add_1,Tensordot;transformer_block_8/dense/StatefulPartitionedCall/StatefulPartitionedCall/Tensordot;BiasAdd;transformer_block_8/dense/StatefulPartitionedCall/StatefulPartitionedCall/BiasAdd,tfl.dequantize,Gelu/Pow;transformer_block_8/dense/StatefulPartitionedCall/StatefulPartitionedCall/Gelu/Pow,tfl.quantize,Gelu/mul_1;transformer_block_8/dense/StatefulPartitionedCall/StatefulPartitionedCall/Gelu/mul_1,Gelu/add;transformer_block_8/dense/StatefulPartitionedCall/StatefulPartitionedCall/Gelu/add,Gelu/mul_2;transformer_block_8/dense/StatefulPartitionedCall/StatefulPartitionedCall/Gelu/mul_2,Gelu/Tanh;transformer_block_8/dense/StatefulPartitionedCall/StatefulPartitionedCall/Gelu/Tanh,Gelu/add_1;transformer_block_8/dense/StatefulPartitionedCall/StatefulPartitionedCall/Gelu/add_1,transformer_block_9/layer_normalization_1/batchnorm/sub,transformer_block_9/layer_normalization_1/batchnorm/add_1,Tensordot;transformer_block_9/dense/StatefulPartitionedCall/StatefulPartitionedCall/Tensordot;BiasAdd;transformer_block_9/dense/StatefulPartitionedCall/StatefulPartitionedCall/BiasAdd,tfl.dequantize,Gelu/Pow;transformer_block_9/dense/StatefulPartitionedCall/StatefulPartitionedCall/Gelu/Pow,tfl.quantize,Gelu/mul_1;transformer_block_9/dense/StatefulPartitionedCall/StatefulPartitionedCall/Gelu/mul_1,Gelu/add;transformer_block_9/dense/StatefulPartitionedCall/StatefulPartitionedCall/Gelu/add,Gelu/mul_2;transformer_block_9/dense/StatefulPartitionedCall/StatefulPartitionedCall/Gelu/mul_2,Gelu/Tanh;transformer_block_9/dense/StatefulPartitionedCall/StatefulPartitionedCall/Gelu/Tanh,Gelu/add_1;transformer_block_9/dense/StatefulPartitionedCall/StatefulPartitionedCall/Gelu/add_1,transformer_block_10/layer_normalization_1/batchnorm/sub,transformer_block_10/layer_normalization_1/batchnorm/add_1,Tensordot;transformer_block_10/dense/StatefulPartitionedCall/StatefulPartitionedCall/Tensordot;BiasAdd;transformer_block_10/dense/StatefulPartitionedCall/StatefulPartitionedCall/BiasAdd,tfl.dequantize,Gelu/Pow;transformer_block_10/dense/StatefulPartitionedCall/StatefulPartitionedCall/Gelu/Pow,tfl.quantize,Gelu/mul_1;transformer_block_10/dense/StatefulPartitionedCall/StatefulPartitionedCall/Gelu/mul_1,Gelu/add;transformer_block_10/dense/StatefulPartitionedCall/StatefulPartitionedCall/Gelu/add,Gelu/mul_2;transformer_block_10/dense/StatefulPartitionedCall/StatefulPartitionedCall/Gelu/mul_2,Gelu/Tanh;transformer_block_10/dense/StatefulPartitionedCall/StatefulPartitionedCall/Gelu/Tanh,Gelu/add_1;transformer_block_10/dense/StatefulPartitionedCall/StatefulPartitionedCall/Gelu/add_1,transformer_block_11/layer_normalization_1/batchnorm/sub,transformer_block_11/layer_normalization_1/batchnorm/add_1,Tensordot;transformer_block_11/dense/StatefulPartitionedCall/StatefulPartitionedCall/Tensordot;BiasAdd;transformer_block_11/dense/StatefulPartitionedCall/StatefulPartitionedCall/BiasAdd,tfl.dequantize,Gelu/Pow;transformer_block_11/dense/StatefulPartitionedCall/StatefulPartitionedCall/Gelu/Pow,tfl.quantize,Gelu/mul_1;transformer_block_11/dense/StatefulPartitionedCall/StatefulPartitionedCall/Gelu/mul_1,Gelu/add;transformer_block_11/dense/StatefulPartitionedCall/StatefulPartitionedCall/Gelu/add,Gelu/mul_2;transformer_block_11/dense/StatefulPartitionedCall/StatefulPartitionedCall/Gelu/mul_2,Gelu/Tanh;transformer_block_11/dense/StatefulPartitionedCall/StatefulPartitionedCall/Gelu/Tanh,Gelu/add_1;transformer_block_11/dense/StatefulPartitionedCall/StatefulPartitionedCall/Gelu/add_1\"\n"
     ]
    }
   ],
   "source": [
    "layers = \"\"\n",
    "for i in range(12):\n",
    "    layers += f\"transformer_block_{i}/layer_normalization_1/batchnorm/sub,transformer_block_{i}/layer_normalization_1/batchnorm/add_1,Tensordot;transformer_block_{i}/dense/StatefulPartitionedCall/StatefulPartitionedCall/Tensordot;BiasAdd;transformer_block_{i}/dense/StatefulPartitionedCall/StatefulPartitionedCall/BiasAdd,tfl.dequantize,Gelu/Pow;transformer_block_{i}/dense/StatefulPartitionedCall/StatefulPartitionedCall/Gelu/Pow,tfl.quantize,Gelu/mul_1;transformer_block_{i}/dense/StatefulPartitionedCall/StatefulPartitionedCall/Gelu/mul_1,Gelu/add;transformer_block_{i}/dense/StatefulPartitionedCall/StatefulPartitionedCall/Gelu/add,Gelu/mul_2;transformer_block_{i}/dense/StatefulPartitionedCall/StatefulPartitionedCall/Gelu/mul_2,Gelu/Tanh;transformer_block_{i}/dense/StatefulPartitionedCall/StatefulPartitionedCall/Gelu/Tanh,Gelu/add_1;transformer_block_{i}/dense/StatefulPartitionedCall/StatefulPartitionedCall/Gelu/add_1\"\n",
    "\n",
    "    # Add a comma if it's not the last iteration\n",
    "    if i < 11:\n",
    "        layers += \",\"\n",
    "\n",
    "command = f\"edgetpu_compiler quantized_spatial_extractor.tflite -as -i \\\"{layers}\\\"\"\n",
    "print(command)"
   ]
  },
  {
   "cell_type": "code",
   "execution_count": null,
   "metadata": {
    "colab": {
     "base_uri": "https://localhost:8080/"
    },
    "id": "ZtxFJ2fmhz3n",
    "outputId": "f51294aa-38c8-408a-f0b4-2b57c79c8045"
   },
   "outputs": [
    {
     "name": "stdout",
     "output_type": "stream",
     "text": [
      "model_242/tf.linalg.matmul_137/MatMul19,model_242/tf.linalg.matmul_137/MatMul20,model_242/tf.linalg.matmul_137/MatMul21,model_242/tf.linalg.matmul_137/MatMul22,model_242/tf.linalg.matmul_137/MatMul23,model_242/tf.compat.v1.transpose_133/transpose,model_242/tf.linalg.matmul_139/MatMul;model_242/tf.reshape_74/Reshape,model_242/tf.linalg.matmul_139/MatMul;model_242/tf.math.add_115/Add;model_242/tf.linalg.matmul_143/MatMul;model_242/tf.math.add_115/Add/y,model_242/tf.math.add_115/Add;model_242/tf.linalg.matmul_143/MatMul;model_242/tf.linalg.matmul_139/MatMul;model_242/tf.math.add_115/Add/y,model_242/tf.math.add_116/Add,model_242/tf.math.reduce_mean_46/Mean,model_242/tf.math.subtract_25/Sub,model_242/tf.math.multiply_400/Mul,model_242/tf.math.reduce_mean_47/Mean,model_242/tf.linalg.matmul_125/MatMul14,model_242/tf.linalg.matmul_125/MatMul15,model_242/tf.linalg.matmul_125/MatMul16,model_242/tf.linalg.matmul_125/MatMul17,model_242/tf.linalg.matmul_125/MatMul18,model_242/tf.compat.v1.transpose_122/transpose,model_242/tf.linalg.matmul_127/MatMul;model_242/tf.reshape_68/Reshape,model_242/tf.linalg.matmul_127/MatMul;model_242/tf.math.add_105/Add;model_242/tf.linalg.matmul_143/MatMul;model_242/tf.math.add_105/Add/y,model_242/tf.math.add_105/Add;model_242/tf.linalg.matmul_143/MatMul;model_242/tf.linalg.matmul_127/MatMul;model_242/tf.math.add_105/Add/y,model_242/tf.math.add_106/Add,model_242/tf.math.reduce_mean_42/Mean,model_242/tf.math.subtract_23/Sub,model_242/tf.math.multiply_366/Mul,model_242/tf.math.reduce_mean_43/Mean,model_242/tf.linalg.matmul_113/MatMul14,model_242/tf.linalg.matmul_113/MatMul15,model_242/tf.linalg.matmul_113/MatMul16,model_242/tf.linalg.matmul_113/MatMul17,model_242/tf.linalg.matmul_113/MatMul18,model_242/tf.compat.v1.transpose_111/transpose,model_242/tf.linalg.matmul_115/MatMul;model_242/tf.reshape_62/Reshape,model_242/tf.linalg.matmul_115/MatMul;model_242/tf.math.add_95/Add;model_242/tf.linalg.matmul_143/MatMul;model_242/tf.math.add_95/Add/y,model_242/tf.math.add_95/Add;model_242/tf.linalg.matmul_143/MatMul;model_242/tf.linalg.matmul_115/MatMul;model_242/tf.math.add_95/Add/y,model_242/tf.math.add_96/Add,model_242/tf.math.reduce_mean_38/Mean,model_242/tf.math.subtract_21/Sub,model_242/tf.math.multiply_332/Mul,model_242/tf.math.reduce_mean_39/Mean,model_242/tf.linalg.matmul_101/MatMul14,model_242/tf.linalg.matmul_101/MatMul15,model_242/tf.linalg.matmul_101/MatMul16,model_242/tf.linalg.matmul_101/MatMul17,model_242/tf.linalg.matmul_101/MatMul18,model_242/tf.compat.v1.transpose_100/transpose,model_242/tf.linalg.matmul_103/MatMul;model_242/tf.reshape_56/Reshape,model_242/tf.linalg.matmul_103/MatMul;model_242/tf.math.add_85/Add;model_242/tf.linalg.matmul_143/MatMul;model_242/tf.math.add_85/Add/y,model_242/tf.math.add_85/Add;model_242/tf.linalg.matmul_143/MatMul;model_242/tf.linalg.matmul_103/MatMul;model_242/tf.math.add_85/Add/y,model_242/tf.math.add_86/Add,model_242/tf.math.reduce_mean_34/Mean,model_242/tf.math.subtract_19/Sub,model_242/tf.math.multiply_298/Mul,model_242/tf.math.reduce_mean_35/Mean,model_242/tf.linalg.matmul_89/MatMul14,model_242/tf.linalg.matmul_89/MatMul15,model_242/tf.linalg.matmul_89/MatMul16,model_242/tf.linalg.matmul_89/MatMul17,model_242/tf.linalg.matmul_89/MatMul18,model_242/tf.compat.v1.transpose_89/transpose,model_242/tf.linalg.matmul_91/MatMul;model_242/tf.reshape_50/Reshape,model_242/tf.linalg.matmul_91/MatMul;model_242/tf.math.add_75/Add;model_242/tf.linalg.matmul_143/MatMul;model_242/tf.math.add_75/Add/y,model_242/tf.math.add_75/Add;model_242/tf.linalg.matmul_143/MatMul;model_242/tf.linalg.matmul_91/MatMul;model_242/tf.math.add_75/Add/y,model_242/tf.math.add_76/Add,model_242/tf.math.reduce_mean_30/Mean,model_242/tf.math.subtract_17/Sub,model_242/tf.math.multiply_264/Mul,model_242/tf.math.reduce_mean_31/Mean,model_242/tf.linalg.matmul_77/MatMul14,model_242/tf.linalg.matmul_77/MatMul15,model_242/tf.linalg.matmul_77/MatMul16,model_242/tf.linalg.matmul_77/MatMul17,model_242/tf.linalg.matmul_77/MatMul18,model_242/tf.compat.v1.transpose_78/transpose,model_242/tf.linalg.matmul_79/MatMul;model_242/tf.reshape_44/Reshape,model_242/tf.linalg.matmul_79/MatMul;model_242/tf.math.add_65/Add;model_242/tf.linalg.matmul_143/MatMul;model_242/tf.math.add_65/Add/y,model_242/tf.math.add_65/Add;model_242/tf.linalg.matmul_143/MatMul;model_242/tf.linalg.matmul_79/MatMul;model_242/tf.math.add_65/Add/y,model_242/tf.math.add_66/Add,model_242/tf.math.reduce_mean_26/Mean,model_242/tf.math.subtract_15/Sub,model_242/tf.math.multiply_230/Mul,model_242/tf.math.reduce_mean_27/Mean,model_242/tf.linalg.matmul_65/MatMul14,model_242/tf.linalg.matmul_65/MatMul15,model_242/tf.linalg.matmul_65/MatMul16,model_242/tf.linalg.matmul_65/MatMul17,model_242/tf.linalg.matmul_65/MatMul18,model_242/tf.compat.v1.transpose_67/transpose,model_242/tf.linalg.matmul_67/MatMul;model_242/tf.reshape_38/Reshape,model_242/tf.linalg.matmul_67/MatMul;model_242/tf.math.add_55/Add;model_242/tf.linalg.matmul_143/MatMul;model_242/tf.math.add_55/Add/y,model_242/tf.math.add_55/Add;model_242/tf.linalg.matmul_143/MatMul;model_242/tf.linalg.matmul_67/MatMul;model_242/tf.math.add_55/Add/y,model_242/tf.math.add_56/Add,model_242/tf.math.reduce_mean_22/Mean,model_242/tf.math.subtract_13/Sub,model_242/tf.math.multiply_196/Mul,model_242/tf.math.reduce_mean_23/Mean,model_242/tf.linalg.matmul_53/MatMul14,model_242/tf.linalg.matmul_53/MatMul15,model_242/tf.linalg.matmul_53/MatMul16,model_242/tf.linalg.matmul_53/MatMul17,model_242/tf.linalg.matmul_53/MatMul18,model_242/tf.compat.v1.transpose_56/transpose,model_242/tf.linalg.matmul_55/MatMul;model_242/tf.reshape_32/Reshape,model_242/tf.linalg.matmul_55/MatMul;model_242/tf.math.add_45/Add;model_242/tf.linalg.matmul_143/MatMul;model_242/tf.math.add_45/Add/y,model_242/tf.math.add_45/Add;model_242/tf.linalg.matmul_143/MatMul;model_242/tf.linalg.matmul_55/MatMul;model_242/tf.math.add_45/Add/y,model_242/tf.math.add_46/Add,model_242/tf.math.reduce_mean_18/Mean,model_242/tf.math.subtract_11/Sub,model_242/tf.math.multiply_162/Mul,model_242/tf.math.reduce_mean_19/Mean,model_242/tf.linalg.matmul_41/MatMul14,model_242/tf.linalg.matmul_41/MatMul15,model_242/tf.linalg.matmul_41/MatMul16,model_242/tf.linalg.matmul_41/MatMul17,model_242/tf.linalg.matmul_41/MatMul18,model_242/tf.compat.v1.transpose_45/transpose,model_242/tf.linalg.matmul_43/MatMul;model_242/tf.reshape_26/Reshape,model_242/tf.linalg.matmul_43/MatMul;model_242/tf.math.add_35/Add;model_242/tf.linalg.matmul_143/MatMul;model_242/tf.math.add_35/Add/y,model_242/tf.math.add_35/Add;model_242/tf.linalg.matmul_143/MatMul;model_242/tf.linalg.matmul_43/MatMul;model_242/tf.math.add_35/Add/y,model_242/tf.math.add_36/Add,model_242/tf.math.reduce_mean_14/Mean,model_242/tf.math.subtract_9/Sub,model_242/tf.math.multiply_128/Mul,model_242/tf.math.reduce_mean_15/Mean,model_242/tf.linalg.matmul_29/MatMul14,model_242/tf.linalg.matmul_29/MatMul15,model_242/tf.linalg.matmul_29/MatMul16,model_242/tf.linalg.matmul_29/MatMul17,model_242/tf.linalg.matmul_29/MatMul18,model_242/tf.compat.v1.transpose_34/transpose,model_242/tf.linalg.matmul_31/MatMul;model_242/tf.reshape_20/Reshape,model_242/tf.linalg.matmul_31/MatMul;model_242/tf.math.add_25/Add;model_242/tf.linalg.matmul_143/MatMul;model_242/tf.math.add_25/Add/y,model_242/tf.math.add_25/Add;model_242/tf.linalg.matmul_143/MatMul;model_242/tf.linalg.matmul_31/MatMul;model_242/tf.math.add_25/Add/y,model_242/tf.math.add_26/Add,model_242/tf.math.reduce_mean_10/Mean,model_242/tf.math.subtract_7/Sub,model_242/tf.math.multiply_94/Mul,model_242/tf.math.reduce_mean_11/Mean,model_242/tf.linalg.matmul_17/MatMul14,model_242/tf.linalg.matmul_17/MatMul15,model_242/tf.linalg.matmul_17/MatMul16,model_242/tf.linalg.matmul_17/MatMul17,model_242/tf.linalg.matmul_17/MatMul18,model_242/tf.compat.v1.transpose_23/transpose,model_242/tf.linalg.matmul_19/MatMul;model_242/tf.reshape_14/Reshape,model_242/tf.linalg.matmul_19/MatMul;model_242/tf.math.add_15/Add;model_242/tf.linalg.matmul_143/MatMul;model_242/tf.math.add_15/Add/y,model_242/tf.math.add_15/Add;model_242/tf.linalg.matmul_143/MatMul;model_242/tf.linalg.matmul_19/MatMul;model_242/tf.math.add_15/Add/y,model_242/tf.math.add_16/Add,model_242/tf.math.reduce_mean_6/Mean,model_242/tf.math.subtract_5/Sub,model_242/tf.math.multiply_60/Mul,model_242/tf.math.reduce_mean_7/Mean,model_242/tf.linalg.matmul_5/MatMul14,model_242/tf.linalg.matmul_5/MatMul15,model_242/tf.linalg.matmul_5/MatMul16,model_242/tf.linalg.matmul_5/MatMul17,model_242/tf.linalg.matmul_5/MatMul18,model_242/tf.compat.v1.transpose_12/transpose,model_242/tf.linalg.matmul_7/MatMul;model_242/tf.reshape_8/Reshape,model_242/tf.linalg.matmul_7/MatMul;model_242/tf.math.add_5/Add;model_242/tf.linalg.matmul_143/MatMul;model_242/tf.math.add_5/Add/y,model_242/tf.math.add_5/Add;model_242/tf.linalg.matmul_143/MatMul;model_242/tf.linalg.matmul_7/MatMul;model_242/tf.math.add_5/Add/y,model_242/tf.math.add_6/Add,model_242/tf.math.reduce_mean_2/Mean,model_242/tf.math.subtract_3/Sub,model_242/tf.math.multiply_26/Mul,model_242/tf.math.reduce_mean_3/Mean,\n"
     ]
    }
   ],
   "source": [
    "\n",
    "import tflite_runtime.interpreter as tflite\n",
    "\n",
    "interpreter = tflite.Interpreter(model_path='quantized_spatial_extractor.tflite')\n",
    "all_layers_details = interpreter.get_tensor_details()\n",
    "#print(len(all_layers_details))\n",
    "# Calculate the range for the layers\n",
    "offset = 7\n",
    "size_of_transformer_block = 81\n",
    "start_index = -offset - 35\n",
    "end_index = -offset - 22\n",
    "res = \"\"\n",
    "for i in range(0, 12):\n",
    "\n",
    "\n",
    "  for layer_index in range(start_index - size_of_transformer_block*i, end_index -  size_of_transformer_block*i + 1):\n",
    "      layer = all_layers_details[layer_index]\n",
    "      res += (layer['name'] +',')\n",
    "      #print(layer['name'] +',', end='')\n",
    "print(res)"
   ]
  },
  {
   "cell_type": "code",
   "execution_count": null,
   "metadata": {
    "colab": {
     "base_uri": "https://localhost:8080/"
    },
    "id": "Lqk-v8y2z7c_",
    "outputId": "324ba4a9-451a-41d4-b68c-51ec2664eb92"
   },
   "outputs": [
    {
     "name": "stdout",
     "output_type": "stream",
     "text": [
      "Collecting tflite-runtime\n",
      "  Downloading tflite_runtime-2.14.0-cp310-cp310-manylinux2014_x86_64.whl (2.4 MB)\n",
      "\u001b[2K     \u001b[90m━━━━━━━━━━━━━━━━━━━━━━━━━━━━━━━━━━━━━━━━\u001b[0m \u001b[32m2.4/2.4 MB\u001b[0m \u001b[31m10.2 MB/s\u001b[0m eta \u001b[36m0:00:00\u001b[0m\n",
      "\u001b[?25hRequirement already satisfied: numpy>=1.23.2 in /usr/local/lib/python3.10/dist-packages (from tflite-runtime) (1.23.5)\n",
      "Installing collected packages: tflite-runtime\n",
      "Successfully installed tflite-runtime-2.14.0\n"
     ]
    }
   ],
   "source": [
    "!pip install tflite-runtime"
   ]
  },
  {
   "cell_type": "code",
   "execution_count": null,
   "metadata": {
    "id": "wYsDSPUbo3UE"
   },
   "outputs": [],
   "source": [
    "import tflite_runtime.interpreter as tflite\n",
    "\n",
    "interpreter = tflite.Interpreter(model_path='quantized_spatial_extractor.tflite')\n",
    "all_layers_details = interpreter.get_tensor_details()\n",
    "\n",
    "for layer in all_layers_details:\n",
    "  print(layer['name'])"
   ]
  },
  {
   "cell_type": "code",
   "execution_count": null,
   "metadata": {
    "colab": {
     "base_uri": "https://localhost:8080/"
    },
    "id": "EPGc_pQ-clwk",
    "outputId": "f693e580-0a75-4fde-96bd-ce2543dada75"
   },
   "outputs": [
    {
     "name": "stdout",
     "output_type": "stream",
     "text": [
      "Reading package lists... Done\n",
      "Building dependency tree... Done\n",
      "Reading state information... Done\n",
      "E: Unable to locate package edgetpu-compiler\n",
      "^C\n",
      "chmod: cannot access 'compiler/edgetpu_compiler_bin': No such file or directory\n"
     ]
    }
   ],
   "source": [
    "! apt-get remove edgetpu-compiler\n",
    "\n",
    "! cp -r /content/drive/MyDrive/compiler   /content\n",
    "! chmod +x compiler/edgetpu_compiler\n",
    "! chmod -R +x compiler/edgetpu_compiler_bin"
   ]
  },
  {
   "cell_type": "code",
   "execution_count": null,
   "metadata": {
    "id": "EZevjP-n0VW-",
    "colab": {
     "base_uri": "https://localhost:8080/"
    },
    "outputId": "f890666a-6a93-4e36-ac34-47e651f3c9d2"
   },
   "outputs": [
    {
     "name": "stdout",
     "output_type": "stream",
     "text": [
      "  % Total    % Received % Xferd  Average Speed   Time    Time     Time  Current\n",
      "                                 Dload  Upload   Total   Spent    Left  Speed\n",
      "\r  0     0    0     0    0     0      0      0 --:--:-- --:--:-- --:--:--     0\r100  2659  100  2659    0     0  20760      0 --:--:-- --:--:-- --:--:-- 20937\n",
      "Warning: apt-key is deprecated. Manage keyring files in trusted.gpg.d instead (see apt-key(8)).\n",
      "OK\n",
      "deb https://packages.cloud.google.com/apt coral-edgetpu-stable main\n",
      "Get:1 http://security.ubuntu.com/ubuntu jammy-security InRelease [110 kB]\n",
      "Get:2 https://packages.cloud.google.com/apt coral-edgetpu-stable InRelease [6,332 B]\n",
      "Get:3 https://cloud.r-project.org/bin/linux/ubuntu jammy-cran40/ InRelease [3,626 B]\n",
      "Get:4 https://developer.download.nvidia.com/compute/cuda/repos/ubuntu2204/x86_64  InRelease [1,581 B]\n",
      "Hit:5 http://archive.ubuntu.com/ubuntu jammy InRelease\n",
      "Get:6 http://archive.ubuntu.com/ubuntu jammy-updates InRelease [119 kB]\n",
      "Get:7 https://packages.cloud.google.com/apt coral-edgetpu-stable/main amd64 Packages [2,317 B]\n",
      "Hit:8 https://ppa.launchpadcontent.net/c2d4u.team/c2d4u4.0+/ubuntu jammy InRelease\n",
      "Get:9 https://developer.download.nvidia.com/compute/cuda/repos/ubuntu2204/x86_64  Packages [770 kB]\n",
      "Hit:10 https://ppa.launchpadcontent.net/deadsnakes/ppa/ubuntu jammy InRelease\n",
      "Hit:11 https://ppa.launchpadcontent.net/graphics-drivers/ppa/ubuntu jammy InRelease\n",
      "Get:12 http://archive.ubuntu.com/ubuntu jammy-backports InRelease [109 kB]\n",
      "Hit:13 https://ppa.launchpadcontent.net/ubuntugis/ppa/ubuntu jammy InRelease\n",
      "Get:14 http://security.ubuntu.com/ubuntu jammy-security/restricted amd64 Packages [2,012 kB]\n",
      "Get:15 http://security.ubuntu.com/ubuntu jammy-security/main amd64 Packages [1,602 kB]\n",
      "Get:16 http://security.ubuntu.com/ubuntu jammy-security/universe amd64 Packages [1,080 kB]\n",
      "Get:17 http://archive.ubuntu.com/ubuntu jammy-updates/restricted amd64 Packages [2,056 kB]\n",
      "Get:18 http://archive.ubuntu.com/ubuntu jammy-updates/universe amd64 Packages [1,354 kB]\n",
      "Get:19 http://archive.ubuntu.com/ubuntu jammy-updates/main amd64 Packages [1,885 kB]\n",
      "Get:20 http://archive.ubuntu.com/ubuntu jammy-backports/universe amd64 Packages [33.3 kB]\n",
      "Fetched 11.1 MB in 4s (3,148 kB/s)\n",
      "Reading package lists... Done\n",
      "W: https://packages.cloud.google.com/apt/dists/coral-edgetpu-stable/InRelease: Key is stored in legacy trusted.gpg keyring (/etc/apt/trusted.gpg), see the DEPRECATION section in apt-key(8) for details.\n",
      "Reading package lists... Done\n",
      "Building dependency tree... Done\n",
      "Reading state information... Done\n",
      "The following NEW packages will be installed:\n",
      "  edgetpu-compiler\n",
      "0 upgraded, 1 newly installed, 0 to remove and 45 not upgraded.\n",
      "Need to get 7,913 kB of archives.\n",
      "After this operation, 31.2 MB of additional disk space will be used.\n",
      "Get:1 https://packages.cloud.google.com/apt coral-edgetpu-stable/main amd64 edgetpu-compiler amd64 16.0 [7,913 kB]\n",
      "Fetched 7,913 kB in 1s (7,756 kB/s)\n",
      "debconf: unable to initialize frontend: Dialog\n",
      "debconf: (No usable dialog-like program is installed, so the dialog based frontend cannot be used. at /usr/share/perl5/Debconf/FrontEnd/Dialog.pm line 78, <> line 1.)\n",
      "debconf: falling back to frontend: Readline\n",
      "debconf: unable to initialize frontend: Readline\n",
      "debconf: (This frontend requires a controlling tty.)\n",
      "debconf: falling back to frontend: Teletype\n",
      "dpkg-preconfigure: unable to re-open stdin: \n",
      "Selecting previously unselected package edgetpu-compiler.\n",
      "(Reading database ... 121752 files and directories currently installed.)\n",
      "Preparing to unpack .../edgetpu-compiler_16.0_amd64.deb ...\n",
      "Unpacking edgetpu-compiler (16.0) ...\n",
      "Setting up edgetpu-compiler (16.0) ...\n",
      "Processing triggers for libc-bin (2.35-0ubuntu3.4) ...\n",
      "/sbin/ldconfig.real: /usr/local/lib/libtbbbind_2_5.so.3 is not a symbolic link\n",
      "\n",
      "/sbin/ldconfig.real: /usr/local/lib/libtbbbind.so.3 is not a symbolic link\n",
      "\n",
      "/sbin/ldconfig.real: /usr/local/lib/libtbb.so.12 is not a symbolic link\n",
      "\n",
      "/sbin/ldconfig.real: /usr/local/lib/libtbbmalloc_proxy.so.2 is not a symbolic link\n",
      "\n",
      "/sbin/ldconfig.real: /usr/local/lib/libtbbbind_2_0.so.3 is not a symbolic link\n",
      "\n",
      "/sbin/ldconfig.real: /usr/local/lib/libtbbmalloc.so.2 is not a symbolic link\n",
      "\n"
     ]
    }
   ],
   "source": [
    "! curl https://packages.cloud.google.com/apt/doc/apt-key.gpg | sudo apt-key add -\n",
    "\n",
    "! echo \"deb https://packages.cloud.google.com/apt coral-edgetpu-stable main\" | sudo tee /etc/apt/sources.list.d/coral-edgetpu.list\n",
    "\n",
    "! sudo apt-get update\n",
    "\n",
    "! sudo apt-get install edgetpu-compiler"
   ]
  },
  {
   "cell_type": "code",
   "execution_count": null,
   "metadata": {
    "id": "KBgjHqRGu0lb"
   },
   "outputs": [],
   "source": [
    "# Load the TFLite model and allocate tensors\n",
    "interpreter = tf.lite.Interpreter(model_path=\"model_tflite.tflite\")\n",
    "interpreter.allocate_tensors()\n",
    "\n",
    "# Get input and output tensors\n",
    "input_details = interpreter.get_input_details()\n",
    "output_details = interpreter.get_output_details()\n",
    "\n",
    "print(input_details)\n",
    "print(output_details)\n",
    "\n",
    "interpreter.invoke()\n",
    "# Load the TFLite model and allocate tensors\n",
    "interpreter2 = tf.lite.Interpreter(model_path=\"PROC_CLS.tflite\")\n",
    "interpreter2.allocate_tensors()\n",
    "\n",
    "# Get input and output tensors\n",
    "input_details = interpreter2.get_input_details()\n",
    "output_details = interpreter2.get_output_details()\n",
    "\n",
    "print(input_details)\n",
    "print(output_details)\n",
    "\n",
    "interpreter2.invoke()\n"
   ]
  },
  {
   "cell_type": "code",
   "execution_count": null,
   "metadata": {
    "colab": {
     "base_uri": "https://localhost:8080/"
    },
    "id": "lmScswlDbJ1m",
    "outputId": "d20fc395-b387-430b-f66e-6f9b7c4a3109"
   },
   "outputs": [
    {
     "name": "stdout",
     "output_type": "stream",
     "text": [
      "No Version\n"
     ]
    }
   ],
   "source": [
    "import h5py\n",
    "import re\n",
    "\n",
    "def get_tensorflow_version(h5):\n",
    "    with h5py.File(h5, 'r') as f:\n",
    "        model_config = f.attrs.get('model_config')\n",
    "        if model_config is None:\n",
    "            return \"No Version\"\n",
    "        else:\n",
    "            model_config_str = model_config\n",
    "            version = re.search(r'\"keras_version\":\\s*\"([^\"]*)', model_config_str)\n",
    "            if version:\n",
    "                return version.group(1)\n",
    "            else:\n",
    "                return \"No Version\"\n",
    "\n",
    "print(get_tensorflow_version('efficientvit_b0_224_imagenet.h5'))"
   ]
  },
  {
   "cell_type": "code",
   "execution_count": null,
   "metadata": {
    "colab": {
     "base_uri": "https://localhost:8080/"
    },
    "id": "StRuhQGW0She",
    "outputId": "c6555551-9158-43ee-a85b-93fabfbe4ea4"
   },
   "outputs": [
    {
     "name": "stdout",
     "output_type": "stream",
     "text": [
      "env: TFLITE_FILE=model_tflite.tflite\n"
     ]
    }
   ],
   "source": [
    "%env TFLITE_FILE=model_tflite.tflite"
   ]
  },
  {
   "cell_type": "code",
   "execution_count": null,
   "metadata": {
    "colab": {
     "background_save": true,
     "base_uri": "https://localhost:8080/"
    },
    "id": "SsCIPh8aTExl",
    "outputId": "68628c7f-6779-4f57-8f0b-09609703bf5d"
   },
   "outputs": [
    {
     "name": "stderr",
     "output_type": "stream",
     "text": [
      "WARNING:tensorflow:No training configuration found in save file, so the model was *not* compiled. Compile it manually.\n"
     ]
    },
    {
     "name": "stdout",
     "output_type": "stream",
     "text": [
      "Sequential\n",
      "Conv2D\n",
      "Conv2D linear\n",
      "Reshape\n",
      "Functional\n",
      "InputLayer\n",
      "LayerNormalization\n",
      "TFViTAttention\n",
      "Add\n",
      "LayerNormalization\n",
      "Dense\n",
      "Dense gelu\n",
      "replaced gelu\n",
      "Dropout\n",
      "Dense\n",
      "Dense linear\n",
      "Dropout\n",
      "Add\n",
      "Functional\n",
      "InputLayer\n",
      "LayerNormalization\n",
      "TFViTAttention\n",
      "Add\n",
      "LayerNormalization\n",
      "Dense\n",
      "Dense gelu\n",
      "replaced gelu\n",
      "Dropout\n",
      "Dense\n",
      "Dense linear\n",
      "Dropout\n",
      "Add\n",
      "Functional\n",
      "InputLayer\n",
      "LayerNormalization\n",
      "TFViTAttention\n",
      "Add\n",
      "LayerNormalization\n",
      "Dense\n",
      "Dense gelu\n",
      "replaced gelu\n",
      "Dropout\n",
      "Dense\n",
      "Dense linear\n",
      "Dropout\n",
      "Add\n",
      "Functional\n",
      "InputLayer\n",
      "LayerNormalization\n",
      "TFViTAttention\n",
      "Add\n",
      "LayerNormalization\n",
      "Dense\n",
      "Dense gelu\n",
      "replaced gelu\n",
      "Dropout\n",
      "Dense\n",
      "Dense linear\n",
      "Dropout\n",
      "Add\n",
      "Functional\n",
      "InputLayer\n",
      "LayerNormalization\n",
      "TFViTAttention\n",
      "Add\n",
      "LayerNormalization\n",
      "Dense\n",
      "Dense gelu\n",
      "replaced gelu\n",
      "Dropout\n",
      "Dense\n",
      "Dense linear\n",
      "Dropout\n",
      "Add\n",
      "Functional\n",
      "InputLayer\n",
      "LayerNormalization\n",
      "TFViTAttention\n",
      "Add\n",
      "LayerNormalization\n",
      "Dense\n",
      "Dense gelu\n",
      "replaced gelu\n",
      "Dropout\n",
      "Dense\n",
      "Dense linear\n",
      "Dropout\n",
      "Add\n",
      "Functional\n",
      "InputLayer\n",
      "LayerNormalization\n",
      "TFViTAttention\n",
      "Add\n",
      "LayerNormalization\n",
      "Dense\n",
      "Dense gelu\n",
      "replaced gelu\n",
      "Dropout\n",
      "Dense\n",
      "Dense linear\n",
      "Dropout\n",
      "Add\n",
      "Functional\n",
      "InputLayer\n",
      "LayerNormalization\n",
      "TFViTAttention\n",
      "Add\n",
      "LayerNormalization\n",
      "Dense\n",
      "Dense gelu\n",
      "replaced gelu\n",
      "Dropout\n",
      "Dense\n",
      "Dense linear\n",
      "Dropout\n",
      "Add\n",
      "Functional\n",
      "InputLayer\n",
      "LayerNormalization\n",
      "TFViTAttention\n",
      "Add\n",
      "LayerNormalization\n",
      "Dense\n",
      "Dense gelu\n",
      "replaced gelu\n",
      "Dropout\n",
      "Dense\n",
      "Dense linear\n",
      "Dropout\n",
      "Add\n",
      "Functional\n",
      "InputLayer\n",
      "LayerNormalization\n",
      "TFViTAttention\n",
      "Add\n",
      "LayerNormalization\n",
      "Dense\n",
      "Dense gelu\n",
      "replaced gelu\n",
      "Dropout\n",
      "Dense\n",
      "Dense linear\n",
      "Dropout\n",
      "Add\n",
      "Functional\n",
      "InputLayer\n",
      "LayerNormalization\n",
      "TFViTAttention\n",
      "Add\n",
      "LayerNormalization\n",
      "Dense\n",
      "Dense gelu\n",
      "replaced gelu\n",
      "Dropout\n",
      "Dense\n",
      "Dense linear\n",
      "Dropout\n",
      "Add\n",
      "Functional\n",
      "InputLayer\n",
      "LayerNormalization\n",
      "TFViTAttention\n",
      "Add\n",
      "LayerNormalization\n",
      "Dense\n",
      "Dense gelu\n",
      "replaced gelu\n",
      "Dropout\n",
      "Dense\n",
      "Dense linear\n",
      "Dropout\n",
      "Add\n",
      "Dropout\n",
      "LayerNormalization\n"
     ]
    },
    {
     "name": "stderr",
     "output_type": "stream",
     "text": [
      "WARNING:absl:<keras.src.saving.legacy.saved_model.load.Dropout object at 0x7d5548803d60> has the same name 'Dropout' as a built-in Keras object. Consider renaming <class 'keras.src.saving.legacy.saved_model.load.Dropout'> to avoid naming conflicts when loading with `tf.keras.models.load_model`. If renaming is not possible, pass the object in the `custom_objects` parameter of the load function.\n",
      "WARNING:absl:<keras.src.saving.legacy.saved_model.load.Dropout object at 0x7d5548828850> has the same name 'Dropout' as a built-in Keras object. Consider renaming <class 'keras.src.saving.legacy.saved_model.load.Dropout'> to avoid naming conflicts when loading with `tf.keras.models.load_model`. If renaming is not possible, pass the object in the `custom_objects` parameter of the load function.\n",
      "WARNING:absl:<keras.src.saving.legacy.saved_model.load.Dropout object at 0x7d5548829f00> has the same name 'Dropout' as a built-in Keras object. Consider renaming <class 'keras.src.saving.legacy.saved_model.load.Dropout'> to avoid naming conflicts when loading with `tf.keras.models.load_model`. If renaming is not possible, pass the object in the `custom_objects` parameter of the load function.\n",
      "WARNING:absl:<keras.src.saving.legacy.saved_model.load.Dropout object at 0x7d554882a9e0> has the same name 'Dropout' as a built-in Keras object. Consider renaming <class 'keras.src.saving.legacy.saved_model.load.Dropout'> to avoid naming conflicts when loading with `tf.keras.models.load_model`. If renaming is not possible, pass the object in the `custom_objects` parameter of the load function.\n",
      "WARNING:absl:<keras.src.saving.legacy.saved_model.load.Dropout object at 0x7d5548848100> has the same name 'Dropout' as a built-in Keras object. Consider renaming <class 'keras.src.saving.legacy.saved_model.load.Dropout'> to avoid naming conflicts when loading with `tf.keras.models.load_model`. If renaming is not possible, pass the object in the `custom_objects` parameter of the load function.\n",
      "WARNING:absl:<keras.src.saving.legacy.saved_model.load.Dropout object at 0x7d5548848bb0> has the same name 'Dropout' as a built-in Keras object. Consider renaming <class 'keras.src.saving.legacy.saved_model.load.Dropout'> to avoid naming conflicts when loading with `tf.keras.models.load_model`. If renaming is not possible, pass the object in the `custom_objects` parameter of the load function.\n",
      "WARNING:absl:<keras.src.saving.legacy.saved_model.load.Dropout object at 0x7d554884a260> has the same name 'Dropout' as a built-in Keras object. Consider renaming <class 'keras.src.saving.legacy.saved_model.load.Dropout'> to avoid naming conflicts when loading with `tf.keras.models.load_model`. If renaming is not possible, pass the object in the `custom_objects` parameter of the load function.\n",
      "WARNING:absl:<keras.src.saving.legacy.saved_model.load.Dropout object at 0x7d554884ad10> has the same name 'Dropout' as a built-in Keras object. Consider renaming <class 'keras.src.saving.legacy.saved_model.load.Dropout'> to avoid naming conflicts when loading with `tf.keras.models.load_model`. If renaming is not possible, pass the object in the `custom_objects` parameter of the load function.\n",
      "WARNING:absl:<keras.src.saving.legacy.saved_model.load.Dropout object at 0x7d5548868400> has the same name 'Dropout' as a built-in Keras object. Consider renaming <class 'keras.src.saving.legacy.saved_model.load.Dropout'> to avoid naming conflicts when loading with `tf.keras.models.load_model`. If renaming is not possible, pass the object in the `custom_objects` parameter of the load function.\n",
      "WARNING:absl:<keras.src.saving.legacy.saved_model.load.Dropout object at 0x7d5548868eb0> has the same name 'Dropout' as a built-in Keras object. Consider renaming <class 'keras.src.saving.legacy.saved_model.load.Dropout'> to avoid naming conflicts when loading with `tf.keras.models.load_model`. If renaming is not possible, pass the object in the `custom_objects` parameter of the load function.\n",
      "WARNING:absl:<keras.src.saving.legacy.saved_model.load.Dropout object at 0x7d554886a560> has the same name 'Dropout' as a built-in Keras object. Consider renaming <class 'keras.src.saving.legacy.saved_model.load.Dropout'> to avoid naming conflicts when loading with `tf.keras.models.load_model`. If renaming is not possible, pass the object in the `custom_objects` parameter of the load function.\n",
      "WARNING:absl:<keras.src.saving.legacy.saved_model.load.Dropout object at 0x7d554886b010> has the same name 'Dropout' as a built-in Keras object. Consider renaming <class 'keras.src.saving.legacy.saved_model.load.Dropout'> to avoid naming conflicts when loading with `tf.keras.models.load_model`. If renaming is not possible, pass the object in the `custom_objects` parameter of the load function.\n",
      "WARNING:absl:<keras.src.saving.legacy.saved_model.load.Dropout object at 0x7d5548888700> has the same name 'Dropout' as a built-in Keras object. Consider renaming <class 'keras.src.saving.legacy.saved_model.load.Dropout'> to avoid naming conflicts when loading with `tf.keras.models.load_model`. If renaming is not possible, pass the object in the `custom_objects` parameter of the load function.\n",
      "WARNING:absl:<keras.src.saving.legacy.saved_model.load.Dropout object at 0x7d55488891b0> has the same name 'Dropout' as a built-in Keras object. Consider renaming <class 'keras.src.saving.legacy.saved_model.load.Dropout'> to avoid naming conflicts when loading with `tf.keras.models.load_model`. If renaming is not possible, pass the object in the `custom_objects` parameter of the load function.\n",
      "WARNING:absl:<keras.src.saving.legacy.saved_model.load.Dropout object at 0x7d554888a860> has the same name 'Dropout' as a built-in Keras object. Consider renaming <class 'keras.src.saving.legacy.saved_model.load.Dropout'> to avoid naming conflicts when loading with `tf.keras.models.load_model`. If renaming is not possible, pass the object in the `custom_objects` parameter of the load function.\n",
      "WARNING:absl:<keras.src.saving.legacy.saved_model.load.Dropout object at 0x7d554888b310> has the same name 'Dropout' as a built-in Keras object. Consider renaming <class 'keras.src.saving.legacy.saved_model.load.Dropout'> to avoid naming conflicts when loading with `tf.keras.models.load_model`. If renaming is not possible, pass the object in the `custom_objects` parameter of the load function.\n",
      "WARNING:absl:<keras.src.saving.legacy.saved_model.load.Dropout object at 0x7d55488aca00> has the same name 'Dropout' as a built-in Keras object. Consider renaming <class 'keras.src.saving.legacy.saved_model.load.Dropout'> to avoid naming conflicts when loading with `tf.keras.models.load_model`. If renaming is not possible, pass the object in the `custom_objects` parameter of the load function.\n",
      "WARNING:absl:<keras.src.saving.legacy.saved_model.load.Dropout object at 0x7d55488ad4b0> has the same name 'Dropout' as a built-in Keras object. Consider renaming <class 'keras.src.saving.legacy.saved_model.load.Dropout'> to avoid naming conflicts when loading with `tf.keras.models.load_model`. If renaming is not possible, pass the object in the `custom_objects` parameter of the load function.\n",
      "WARNING:absl:<keras.src.saving.legacy.saved_model.load.Dropout object at 0x7d55488aeb60> has the same name 'Dropout' as a built-in Keras object. Consider renaming <class 'keras.src.saving.legacy.saved_model.load.Dropout'> to avoid naming conflicts when loading with `tf.keras.models.load_model`. If renaming is not possible, pass the object in the `custom_objects` parameter of the load function.\n",
      "WARNING:absl:<keras.src.saving.legacy.saved_model.load.Dropout object at 0x7d55488af640> has the same name 'Dropout' as a built-in Keras object. Consider renaming <class 'keras.src.saving.legacy.saved_model.load.Dropout'> to avoid naming conflicts when loading with `tf.keras.models.load_model`. If renaming is not possible, pass the object in the `custom_objects` parameter of the load function.\n",
      "WARNING:absl:<keras.src.saving.legacy.saved_model.load.Dropout object at 0x7d55486dcd30> has the same name 'Dropout' as a built-in Keras object. Consider renaming <class 'keras.src.saving.legacy.saved_model.load.Dropout'> to avoid naming conflicts when loading with `tf.keras.models.load_model`. If renaming is not possible, pass the object in the `custom_objects` parameter of the load function.\n",
      "WARNING:absl:<keras.src.saving.legacy.saved_model.load.Dropout object at 0x7d55486dd7e0> has the same name 'Dropout' as a built-in Keras object. Consider renaming <class 'keras.src.saving.legacy.saved_model.load.Dropout'> to avoid naming conflicts when loading with `tf.keras.models.load_model`. If renaming is not possible, pass the object in the `custom_objects` parameter of the load function.\n",
      "WARNING:absl:<keras.src.saving.legacy.saved_model.load.Dropout object at 0x7d55486dee90> has the same name 'Dropout' as a built-in Keras object. Consider renaming <class 'keras.src.saving.legacy.saved_model.load.Dropout'> to avoid naming conflicts when loading with `tf.keras.models.load_model`. If renaming is not possible, pass the object in the `custom_objects` parameter of the load function.\n",
      "WARNING:absl:<keras.src.saving.legacy.saved_model.load.Dropout object at 0x7d55486df940> has the same name 'Dropout' as a built-in Keras object. Consider renaming <class 'keras.src.saving.legacy.saved_model.load.Dropout'> to avoid naming conflicts when loading with `tf.keras.models.load_model`. If renaming is not possible, pass the object in the `custom_objects` parameter of the load function.\n"
     ]
    }
   ],
   "source": [
    "\n",
    "import keras_cv_attention_models\n",
    "import numpy as np\n",
    "\n",
    "import tensorflow as tf\n",
    "from tensorflow import keras\n",
    "from keras.models import load_model\n",
    "from keras_cv_attention_models import efficientvit_b, mobilevit, common_layers\n",
    "\n",
    "def modify_layers(layer):\n",
    "    layer_type = type(layer).__name__\n",
    "    print(layer_type)\n",
    "    if hasattr(layer, 'activation'):\n",
    "        print(layer_type, layer.activation.__name__)\n",
    "        if layer.activation.__name__ == 'gelu':\n",
    "\n",
    "            target_activation = \"gelu/quick\"\n",
    "            print(\"replaced gelu\")\n",
    "            layer._name = \"REPL_GELU\"\n",
    "            if target_activation == \"gelu/quick\":\n",
    "\n",
    "                layer.activation = tf.keras.activations.relu\n",
    "                layer.activation.__name__ = \"gelu/quick\"\n",
    "            else:\n",
    "                layer.activation = tf.keras.activations.relu\n",
    "                layer.activation.__name__ = \"gelu/quick\"\n",
    "                # layer.activation = lambda xx: functional.gelu(xx, approximate=True)\n",
    "\n",
    "    if hasattr(layer, 'layers'):\n",
    "        for sub_layer in layer.layers:\n",
    "            modify_layers(sub_layer)\n",
    "\n",
    "\n",
    "def SpatialExtractorDeiT() -> keras.Model:\n",
    "    # Create a new model with the desired layers\n",
    "    model_gcs_path = \"https://tfhub.dev/sayakpaul/deit_tiny_distilled_patch16_224_fe/1/uncompressed\"\n",
    "    # vit = hub.KerasLayer(model_gcs_path, trainable=False)\n",
    "    vit = keras.models.load_model(\"deit_tiny_distilled_patch16_224_fe\")\n",
    "\n",
    "    vit.trainable = False\n",
    "\n",
    "    for layer in vit.layers:\n",
    "        modify_layers(layer)\n",
    "    # vit.build(input_shape=(1, 224, 224, 3))\n",
    "\n",
    "    vit.save(\"test\")\n",
    "    vit = load_model(\"test\")\n",
    "\n",
    "    vit.summary()\n",
    "    # vit = keras.models.load_model(\"deit_tiny_distilled_patch16_224\")\n",
    "    # vit = model_surgery.convert_gelu_to_approximate(vit)\n",
    "    inp = keras.layers.Input(shape=(224, 224, 3))\n",
    "    x = keras.layers.experimental.preprocessing.Rescaling(1. / 255, input_shape=input_shape)(inp)\n",
    "    x = PreprocessTFLayer()(x)\n",
    "    vec = vit(x)\n",
    "    model = keras.models.Model(inputs=inp, outputs=vec[0])\n",
    "    model.summary()\n",
    "    return model\n",
    "\n",
    "\n",
    "SpatialExtractorDeiT()"
   ]
  },
  {
   "cell_type": "code",
   "execution_count": null,
   "metadata": {
    "id": "HeURTDIVCY2y"
   },
   "outputs": [],
   "source": []
  }
 ],
 "metadata": {
  "colab": {
   "provenance": []
  },
  "kernelspec": {
   "display_name": "Python 3",
   "name": "python3"
  },
  "language_info": {
   "name": "python"
  }
 },
 "nbformat": 4,
 "nbformat_minor": 0
}
